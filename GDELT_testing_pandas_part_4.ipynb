{
  "nbformat": 4,
  "nbformat_minor": 0,
  "metadata": {
    "colab": {
      "name": "GDELT testing pandas part 4.ipynb",
      "provenance": [],
      "collapsed_sections": [
        "Mp0P2ygzQnM7",
        "TsZAMtlkkdJv",
        "C9qM-3Ifkfe2",
        "jCMjLS2rVFm9"
      ],
      "mount_file_id": "1oMcpeW6GeeV7r-lC31qqGp4PcJPgCSfk",
      "authorship_tag": "ABX9TyPy2ARS35FVYCF2sMsDsOSe",
      "include_colab_link": true
    },
    "kernelspec": {
      "name": "python3",
      "display_name": "Python 3"
    },
    "language_info": {
      "name": "python"
    }
  },
  "cells": [
    {
      "cell_type": "markdown",
      "metadata": {
        "id": "view-in-github",
        "colab_type": "text"
      },
      "source": [
        "<a href=\"https://colab.research.google.com/github/LorenzoJoquino/gitfirsttest/blob/master/GDELT_testing_pandas_part_4.ipynb\" target=\"_parent\"><img src=\"https://colab.research.google.com/assets/colab-badge.svg\" alt=\"Open In Colab\"/></a>"
      ]
    },
    {
      "cell_type": "markdown",
      "source": [
        "#Website parsing and testing BeautifulSoup"
      ],
      "metadata": {
        "id": "Mp0P2ygzQnM7"
      }
    },
    {
      "cell_type": "code",
      "source": [
        "pip install pycountry "
      ],
      "metadata": {
        "id": "4ciQPX9rqZOG",
        "colab": {
          "base_uri": "https://localhost:8080/"
        },
        "outputId": "43f473f2-c0cc-45e8-f819-c658088c4074"
      },
      "execution_count": null,
      "outputs": [
        {
          "output_type": "stream",
          "name": "stdout",
          "text": [
            "Collecting pycountry\n",
            "  Downloading pycountry-22.3.5.tar.gz (10.1 MB)\n",
            "\u001b[K     |████████████████████████████████| 10.1 MB 9.6 MB/s \n",
            "\u001b[?25h  Installing build dependencies ... \u001b[?25l\u001b[?25hdone\n",
            "  Getting requirements to build wheel ... \u001b[?25l\u001b[?25hdone\n",
            "    Preparing wheel metadata ... \u001b[?25l\u001b[?25hdone\n",
            "Requirement already satisfied: setuptools in /usr/local/lib/python3.7/dist-packages (from pycountry) (57.4.0)\n",
            "Building wheels for collected packages: pycountry\n",
            "  Building wheel for pycountry (PEP 517) ... \u001b[?25l\u001b[?25hdone\n",
            "  Created wheel for pycountry: filename=pycountry-22.3.5-py2.py3-none-any.whl size=10681845 sha256=16166f105a0262a83e75a56c2a44187205b9bf946cb757591842351d07af0751\n",
            "  Stored in directory: /root/.cache/pip/wheels/0e/06/e8/7ee176e95ea9a8a8c3b3afcb1869f20adbd42413d4611c6eb4\n",
            "Successfully built pycountry\n",
            "Installing collected packages: pycountry\n",
            "Successfully installed pycountry-22.3.5\n"
          ]
        }
      ]
    },
    {
      "cell_type": "code",
      "source": [
        "from bs4 import BeautifulSoup\n",
        "from urllib.request import urlopen\n",
        "import numpy as np\n",
        "import pandas as pd\n",
        "import matplotlib.pyplot as plt\n",
        "import datetime as dt\n",
        "from google.colab import files\n",
        "from google.colab import drive\n",
        "import gdown \n",
        "import requests \n",
        "from pathlib import Path\n",
        "import random as rnd\n",
        "import re"
      ],
      "metadata": {
        "id": "1VF_XXZ8PwcS"
      },
      "execution_count": 1,
      "outputs": []
    },
    {
      "cell_type": "markdown",
      "source": [
        "#Check which website talks about what: \n",
        "(Does this website contains newslinks for a country, etc.?) "
      ],
      "metadata": {
        "id": "DOzBtOEIbB9s"
      }
    },
    {
      "cell_type": "markdown",
      "source": [
        "##ABYZ "
      ],
      "metadata": {
        "id": "TsZAMtlkkdJv"
      }
    },
    {
      "cell_type": "code",
      "execution_count": null,
      "metadata": {
        "id": "DD-oBENOXxU0"
      },
      "outputs": [],
      "source": [
        "!wget -r -np http://www.abyznewslinks.com/allco.htm\n",
        "#wget, website get, -r is recursive, -np is non-parent? "
      ]
    },
    {
      "cell_type": "code",
      "source": [
        "drive.mount('/content/drive')"
      ],
      "metadata": {
        "colab": {
          "base_uri": "https://localhost:8080/"
        },
        "id": "zV57vDCSuxMx",
        "outputId": "570f9e6e-e12c-435f-f519-027bbd0c53e5"
      },
      "execution_count": null,
      "outputs": [
        {
          "output_type": "stream",
          "name": "stdout",
          "text": [
            "Drive already mounted at /content/drive; to attempt to forcibly remount, call drive.mount(\"/content/drive\", force_remount=True).\n"
          ]
        }
      ]
    },
    {
      "cell_type": "code",
      "source": [
        "    def filter_non_htm(sublinks_list):\n",
        "      substring = \".htm\"\n",
        "      for url in sublinks_list:   \n",
        "        if substring in url:\n",
        "          continue\n",
        "        else:\n",
        "          sublinks_list.remove(url)\n",
        "      return sublinks_list"
      ],
      "metadata": {
        "id": "JvMGPL2BcMTu"
      },
      "execution_count": null,
      "outputs": []
    },
    {
      "cell_type": "markdown",
      "source": [
        "##Beautiful Soup"
      ],
      "metadata": {
        "id": "C9qM-3Ifkfe2"
      }
    },
    {
      "cell_type": "code",
      "source": [
        "#!/usr/bin/env python3\n",
        "# Anchor extraction from HTML document\n",
        "\n",
        "#copied this from beautiful soup wiki page \n",
        "\n",
        "\n",
        "with urlopen('https://en.wikipedia.org/wiki/Main_Page') as response: #use this to connect the link to a variable \n",
        "    soup = BeautifulSoup(response, 'html.parser')\n",
        "    for anchor in soup.find_all('a'): #soup.find_all('a') command that asks to find all hyperlinks? \n",
        "        #the anchor variable contains all the (<a> </a>)'s, what do you call this type then? \n",
        "        print(anchor)\n",
        "        #print(anchor.get('href', '/')) #gets the url on the 'hyperlink' line "
      ],
      "metadata": {
        "id": "5cuISkyNYbAZ"
      },
      "execution_count": null,
      "outputs": []
    },
    {
      "cell_type": "code",
      "source": [
        "with open('/content/drive/MyDrive/GDELT_Raw_data/ABYZ_newslinks/about.htm') as response:\n",
        "  soup = BeautifulSoup(response, 'html.parser')\n",
        "  #print(soup.find_all('title'))\n",
        "  for anchor in soup.find_all('a'):\n",
        "    print(anchor.get('href', '/'))\n",
        "    \n"
      ],
      "metadata": {
        "colab": {
          "base_uri": "https://localhost:8080/"
        },
        "id": "dMNDTae9kM_v",
        "outputId": "4e3cf48a-0bbd-4c94-dfa0-2ecaed2671cf"
      },
      "execution_count": null,
      "outputs": [
        {
          "output_type": "stream",
          "name": "stdout",
          "text": [
            "http://www.abyznewslinks.com/\n",
            "seara.htm\n",
            "admod.htm\n",
            "resou.htm\n",
            "priva.htm\n",
            "contc.htm\n",
            "http://www.abyznewslinks.com/\n"
          ]
        }
      ]
    },
    {
      "cell_type": "code",
      "source": [
        "with urlopen('http://www.abyznewslinks.com/allco.htm') as response:\n",
        "  soup = BeautifulSoup(response, 'html.parser')\n",
        "  sublinks_list = []\n",
        "  for anchor in soup.find_all('a'):\n",
        "    #print(anchor.get('href', '/'))\n",
        "    sublink = anchor.get('href', '/')\n",
        "    sublinks_list.append(sublink)  \n",
        "print(sublinks_list)\n"
      ],
      "metadata": {
        "id": "d4ZOVJX7k-MQ",
        "colab": {
          "base_uri": "https://localhost:8080/"
        },
        "outputId": "a0fdb626-f1a2-4800-d36e-6303f04b8f87"
      },
      "execution_count": null,
      "outputs": [
        {
          "output_type": "stream",
          "name": "stdout",
          "text": [
            "['http://www.abyznewslinks.com/', 'seara.htm', 'admod.htm', 'resou.htm', 'about.htm', 'contc.htm', 'http://www.abyznewslinks.com/', 'afgha.htm', 'africre.htm', 'alban.htm', 'alger.htm', 'asamo.htm', 'amerire.htm', 'andor.htm', 'angol.htm', 'angui.htm', 'antar.htm', 'antig.htm', 'argen.htm', 'armen.htm', 'aruba.htm', 'asia_pacific.htm', 'asiare.htm', 'austr.htm', 'austi.htm', 'azerb.htm', 'baham.htm', 'bahra.htm', 'bangl.htm', 'barba.htm', 'belar.htm', 'belgi.htm', 'beliz.htm', 'benin.htm', 'bermu.htm', 'bhuta.htm', 'boliv.htm', 'bonaire.htm', 'bosni.htm', 'botsw.htm', 'brazi.htm', 'british_caribbean.htm', 'bvirg.htm', 'brune.htm', 'bulga.htm', 'burki.htm', 'burun.htm', 'cambo.htm', 'camer.htm', 'canad.htm', 'capev.htm', 'caribre.htm', 'cayma.htm', 'cafri.htm', 'centrre.htm', 'chad.htm', 'chile.htm', 'china.htm', 'chris.htm', 'cocos.htm', 'colom.htm', 'comor.htm', 'congk.htm', 'congk.htm', 'congb.htm', 'congb.htm', 'cooki.htm', 'costa.htm', 'coted.htm', 'croat.htm', 'cuba.htm', 'nanti.htm', 'cypru.htm', 'czech.htm', 'denma.htm', 'djibo.htm', 'domin.htm', 'domir.htm', 'dutch_caribbean.htm', 'east_africa_regional.htm', 'ecuad.htm', 'egypt.htm', 'elsal.htm', 'equat.htm', 'eritr.htm', 'eston.htm', 'swazi.htm', 'ethio.htm', 'europre.htm', 'european_union.htm', 'falkl.htm', 'faroe.htm', 'fiji.htm', 'finla.htm', 'franc.htm', 'french_caribbean.htm', 'fguia.htm', 'fpoly.htm', 'fsout.htm', 'gabon.htm', 'gambi.htm', 'georg.htm', 'germa.htm', 'ghana.htm', 'gibra.htm', 'greec.htm', 'green.htm', 'grena.htm', 'guade.htm', 'guam.htm', 'guate.htm', 'guern.htm', 'guine.htm', 'guinb.htm', 'guyan.htm', 'haiti.htm', 'vatic.htm', 'hondu.htm', 'hongk.htm', 'hunga.htm', 'icela.htm', 'india.htm', 'indon.htm', 'inter.htm', 'iran.htm', 'iraq.htm', 'irela.htm', 'isman.htm', 'israe.htm', 'italy.htm', 'jamai.htm', 'japan.htm', 'jerse.htm', 'jorda.htm', 'kazak.htm', 'kenya.htm', 'kirib.htm', 'kosov.htm', 'kuwai.htm', 'kyrgy.htm', 'laos.htm', 'latin_america.htm', 'latvi.htm', 'leban.htm', 'lesot.htm', 'liber.htm', 'libya.htm', 'liech.htm', 'lithu.htm', 'luxem.htm', 'macau.htm', 'madag.htm', 'marti.htm', 'malaw.htm', 'malay.htm', 'maldi.htm', 'mali.htm', 'malta.htm', 'marsh.htm', 'maura.htm', 'mauri.htm', 'mayot.htm', 'mexic.htm', 'micro.htm', 'moldo.htm', 'monac.htm', 'mongo.htm', 'monte.htm', 'monts.htm', 'moroc.htm', 'mozam.htm', 'myanm.htm', 'namib.htm', 'nauru.htm', 'nearare.htm', 'nepal.htm', 'nethe.htm', 'newca.htm', 'newze.htm', 'nicar.htm', 'niger.htm', 'nigei.htm', 'niue.htm', 'norfo.htm', 'northre.htm', 'nkore.htm', 'maced.htm', 'nmari.htm', 'norwa.htm', 'oman.htm', 'pacifre.htm', 'pakis.htm', 'palau.htm', 'pales.htm', 'panam.htm', 'papua.htm', 'parag.htm', 'peru.htm', 'phili.htm', 'pitca.htm', 'polan.htm', 'portu.htm', 'puert.htm', 'qatar.htm', 'reuni.htm', 'roman.htm', 'russi.htm', 'rwand.htm', 'saba.htm', 'saint_barthelemy.htm', 'shele.htm', 'shele.htm', 'stkit.htm', 'stluc.htm', 'saint_martin.htm', 'stpie.htm', 'stvin.htm', 'samoa.htm', 'sanma.htm', 'saoto.htm', 'saudi.htm', 'seneg.htm', 'yugos.htm', 'seych.htm', 'sierr.htm', 'singa.htm', 'sint_maarten.htm', 'slova.htm', 'slove.htm', 'solom.htm', 'somal.htm', 'safri.htm', 'southre.htm', 'sgeor.htm', 'skore.htm', 'south_sudan.htm', 'spain.htm', 'srila.htm', 'sudan.htm', 'surin.htm', 'svalb.htm', 'swede.htm', 'switz.htm', 'syria.htm', 'taiwa.htm', 'tajik.htm', 'tanza.htm', 'thail.htm', 'etimo.htm', 'togo.htm', 'tonga.htm', 'trini.htm', 'tunis.htm', 'turke.htm', 'turkm.htm', 'turks.htm', 'tuval.htm', 'ugand.htm', 'ukrai.htm', 'uarab.htm', 'uking.htm', 'united_nations.htm', 'unite.htm', 'virgi.htm', 'urugu.htm', 'uzbek.htm', 'vanua.htm', 'venez.htm', 'vietn.htm', 'walli.htm', 'west_africa_regional.htm', 'wsaha.htm', 'yemen.htm', 'zambi.htm', 'zimba.htm']\n"
          ]
        }
      ]
    },
    {
      "cell_type": "code",
      "source": [
        "print(type(sublinks_list[10]))\n",
        "print(len(sublinks_list))"
      ],
      "metadata": {
        "colab": {
          "base_uri": "https://localhost:8080/"
        },
        "id": "T6bkh3G7IJ4P",
        "outputId": "c55ae903-ef07-4e8b-da2a-a6c0ae9efaad"
      },
      "execution_count": null,
      "outputs": [
        {
          "output_type": "stream",
          "name": "stdout",
          "text": [
            "<class 'str'>\n",
            "275\n"
          ]
        }
      ]
    },
    {
      "cell_type": "code",
      "source": [
        "html_doc = \"\"\"\n",
        "<html><head><title>The Dormouse's story</title></head>\n",
        "<body>\n",
        "<p class=\"title\"><b>The Dormouse's story</b></p>\n",
        "\n",
        "<p class=\"story\">Once upon a time there were three little sisters; and their names were\n",
        "<a href=\"http://example.com/elsie\" class=\"sister\" id=\"link1\">Elsie</a>,\n",
        "<a href=\"http://example.com/lacie\" class=\"sister\" id=\"link2\">Lacie</a> and\n",
        "<a href=\"http://example.com/tillie\" class=\"sister\" id=\"link3\">Tillie</a>;\n",
        "and they lived at the bottom of a well.</p>\n",
        "\n",
        "<p class=\"story\">...</p>\n",
        "\"\"\""
      ],
      "metadata": {
        "id": "CUzv-uM4KKf8"
      },
      "execution_count": null,
      "outputs": []
    },
    {
      "cell_type": "code",
      "source": [
        "#with urlopen('https://colab.research.google.com/drive/1oMcpeW6GeeV7r-lC31qqGp4PcJPgCSfk#scrollTo=l_pSp8whKRjT') as response: \n",
        "soup = BeautifulSoup(html_doc, 'html.parser') #a class of Beautiful Soup\n",
        "\n",
        "#print(soup.prettify()) #this basically prints everything? in html format  \n",
        "for anchor in soup.find_all('a') + soup.find_all('p'): #woah ok, you can add stuff \n",
        "  print(anchor.get('href', '/'))\n",
        "  print(anchor.get('class', '/'))\n",
        "  \n",
        "#print(type(anchor)) #--> anchor is of type bs4.element.Tag"
      ],
      "metadata": {
        "id": "l_pSp8whKRjT"
      },
      "execution_count": null,
      "outputs": []
    },
    {
      "cell_type": "markdown",
      "source": [
        "##Get a list of the foldernames inside ABYZ, "
      ],
      "metadata": {
        "id": "DL43z3Tpb3ij"
      }
    },
    {
      "cell_type": "markdown",
      "source": [
        "###Copied countrylinks in a notepad instead, will use the links in there\n",
        "\n",
        "> Indented block\n",
        "\n"
      ],
      "metadata": {
        "id": "jCMjLS2rVFm9"
      }
    },
    {
      "cell_type": "code",
      "source": [
        "CountryRegion_links_filepath = \"/content/drive/MyDrive/GDELT_Raw_data/CountryRegion_Links.txt\"\n",
        "#Dictionary in this Document \n",
        "allco_links_website = '/content/drive/MyDrive/GDELT_Raw_data/ABYZ_newslinks/allco.htm'\n",
        "root_directory_newslinks = '/content/drive/MyDrive/GDELT_Raw_data/ABYZ_newslinks/'\n",
        "\n",
        "website_head = 'http://www.abyznewslinks.com/'"
      ],
      "metadata": {
        "id": "5lfUAEPoVqFi"
      },
      "execution_count": 2,
      "outputs": []
    },
    {
      "cell_type": "code",
      "source": [
        "def get_CountryRegion_links_array(CountryRegion_links_filepath = CountryRegion_links_filepath):\n",
        "  file = open(CountryRegion_links_filepath, \"r\")\n",
        "  CountryRegion_links_file = file.read()\n",
        "  CountryRegion_links = CountryRegion_links_file.split(\"\\n\")\n",
        "\n",
        "  for i in range(len(CountryRegion_links)):\n",
        "    CountryRegion_links[i] = CountryRegion_links[i].split(\"\\t\",)\n",
        "    CountryRegion_links[i] = CountryRegion_links[i] \n",
        "\n",
        "  return CountryRegion_links"
      ],
      "metadata": {
        "id": "Qr1qKb6LVPNG"
      },
      "execution_count": 3,
      "outputs": []
    },
    {
      "cell_type": "code",
      "source": [
        "CountryRegion_profiles = get_CountryRegion_links_array()"
      ],
      "metadata": {
        "id": "k2XeYVAgWVli"
      },
      "execution_count": 4,
      "outputs": []
    },
    {
      "cell_type": "code",
      "source": [
        "print(CountryRegion_profiles)"
      ],
      "metadata": {
        "colab": {
          "base_uri": "https://localhost:8080/"
        },
        "id": "eUzvll6NxEUD",
        "outputId": "6087b5a7-96ec-4ca9-e18e-f51262c3867d"
      },
      "execution_count": 5,
      "outputs": [
        {
          "output_type": "stream",
          "name": "stdout",
          "text": [
            "[['afgha.htm', 'Afghanistan'], ['africre.htm', 'Africa Regional'], ['alban.htm', 'Albania'], ['alger.htm', 'Algeria'], ['asamo.htm', 'American Samoa'], ['amerire.htm', 'Americas Regional'], ['andor.htm', 'Andorra'], ['angol.htm', 'Angola'], ['angui.htm', 'Anguilla'], ['antar.htm', 'Antarctica'], ['antig.htm', 'Antigua and Barbuda'], ['argen.htm', 'Argentina'], ['armen.htm', 'Armenia'], ['aruba.htm', 'Aruba'], ['asia_pacific.htm', 'Asia Pacific'], ['asiare.htm', 'Asia Regional'], ['austr.htm', 'Australia'], ['austi.htm', 'Austria'], ['azerb.htm', 'Azerbaijan'], ['baham.htm', 'Bahamas'], ['bahra.htm', 'Bahrain'], ['bangl.htm', 'Bangladesh'], ['barba.htm', 'Barbados'], ['belar.htm', 'Belarus'], ['belgi.htm', 'Belgium'], ['beliz.htm', 'Belize'], ['benin.htm', 'Benin'], ['bermu.htm', 'Bermuda'], ['bhuta.htm', 'Bhutan'], ['boliv.htm', 'Bolivia'], ['bonaire.htm', 'Bonaire'], ['bosni.htm', 'Bosnia and Herzegovina'], ['botsw.htm', 'Botswana'], ['brazi.htm', 'Brazil'], ['british_caribbean.htm', 'British Caribbean'], ['bvirg.htm', 'British Virgin Islands'], ['brune.htm', 'Brunei Darussalam'], ['bulga.htm', ' Bulgaria'], ['burki.htm', ' Burkina Faso'], ['burun.htm', ' Burundi'], ['cambo.htm', 'Cambodia'], ['camer.htm', 'Cameroon'], ['canad.htm', 'Canada'], ['capev.htm', 'Cabo Verde (Cape Verde)'], ['caribre.htm', 'Caribbean Regional'], ['cayma.htm', 'Cayman Islands'], ['cafri.htm', 'Central Africa Republic'], ['centrre.htm', 'Central America Regional'], ['chad.htm', 'Chad'], ['chile.htm', 'Chile'], ['china.htm', 'China'], ['chris.htm', 'Christmas Island'], ['cocos.htm', 'Cocos Islands'], ['colom.htm', 'Colombia'], ['comor.htm', 'Comoros'], ['congk.htm', 'Congo, Democratic Republic'], ['congk.htm', 'of the (Kinshasa'], ['congb.htm', 'Congo, Republic of the'], ['congb.htm', '(Brazzaville)'], ['cooki.htm', 'Cook Islands'], ['costa.htm', 'Costa Rica'], ['coted.htm', \"Cote d'Ivoire\"], ['croat.htm', 'Croatia'], ['cuba.htm', 'Cuba'], ['nanti.htm', 'Curacao'], ['cypru.htm', 'Cyprus'], ['czech.htm', 'Czechia'], ['denma.htm', 'Denmark'], ['djibo.htm', 'Djibouti'], ['domin.htm', 'Dominica'], ['domir.htm', 'Dominican Republic'], ['dutch_caribbean.htm', 'Dutch Caribbean'], ['east_africa_regional.htm', 'East Africa Regional'], ['ecuad.htm', 'Ecuador'], ['egypt.htm', 'Egypt'], ['elsal.htm', 'El Salvador'], ['equat.htm', 'Equatorial Guinea'], ['eritr.htm', 'Eritrea'], ['eston.htm', 'Estonia'], ['swazi.htm', 'Eswatini (Swaziland)'], ['ethio.htm', 'Ethiopia'], ['europre.htm', 'Europe Regional'], ['european_union.htm', 'European Union'], ['falkl.htm', 'Falkland Islands'], ['faroe.htm', 'Faeroe Islands'], ['fiji.htm', 'Fiji'], ['finla.htm', 'Finland'], ['franc.htm', 'France'], ['french_caribbean.htm', 'French Caribbean'], ['fguia.htm', 'French Guiana'], ['fpoly.htm', 'French Polynesia'], ['fsout.htm', 'French Southern and Antarctic Lands'], ['gabon.htm', 'Gabon'], ['gambi.htm', 'Gambia'], ['georg.htm', 'Georgia'], ['germa.htm', 'Germany'], ['ghana.htm', 'Ghana'], ['gibra.htm', 'Gibraltar'], ['greec.htm', 'Greece'], ['green.htm', 'Greenland'], ['grena.htm', 'Grenada'], ['guade.htm', 'Guadeloupe'], ['guam.htm', 'Guam'], ['guate.htm', 'Guatemala'], ['guern.htm', 'Guernsey'], ['guine.htm', 'Guinea'], ['guinb.htm', 'Guinea Bissau'], ['guyan.htm', 'Guyana'], ['haiti.htm', 'Haiti'], ['vatic.htm', 'Holy See (Vatican City)'], ['hondu.htm', 'Honduras'], ['hongk.htm', 'Hong Kong'], ['hunga.htm', 'Hungary'], ['icela.htm', 'Iceland'], ['india.htm', 'India'], ['indon.htm', 'Indonesia'], ['inter.htm', 'International'], ['iran.htm', 'Iran'], ['iraq.htm', 'Iraq'], ['irela.htm', 'Ireland'], ['isman.htm', 'Isle of Man'], ['israe.htm', 'Israel'], ['italy.htm', 'Italy'], ['jamai.htm', 'Jamaica'], ['japan.htm', 'Japan'], ['jerse.htm', 'Jersey'], ['jorda.htm', 'Jordan'], ['kazak.htm', 'Kazakhstan'], ['kenya.htm', 'Kenya'], ['kirib.htm', 'Kiribati'], ['kosov.htm', 'Kosovo'], ['kuwai.htm', 'Kuwait'], ['kyrgy.htm', 'Kyrgyzstan'], ['laos.htm', 'Laos'], ['latin_america.htm', 'Latin America'], ['latvi.htm', 'Latvia'], ['leban.htm', 'Lebanon'], ['lesot.htm', 'Lesotho'], ['liber.htm', 'Liberia'], ['libya.htm', 'Libya'], ['liech.htm', 'Liechtenstein'], ['lithu.htm', 'Lithuania'], ['luxem.htm', 'Luxembourg'], ['macau.htm', 'Macau'], ['madag.htm', 'Madagascar'], ['marti.htm', 'Martinique'], ['malaw.htm', 'Malawi'], ['malay.htm', 'Malaysia'], ['maldi.htm', 'Maldives'], ['mali.htm', 'Mali'], ['malta.htm', 'Malta'], ['marsh.htm', 'Marshall Islands'], ['maura.htm', 'Mauritania'], ['mauri.htm', 'Mauritius'], ['mayot.htm', 'Mayotte'], ['mexic.htm', 'Mexico'], ['micro.htm', 'Micronesia'], ['moldo.htm', 'Moldova'], ['monac.htm', 'Monaco'], ['mongo.htm', 'Mongolia'], ['monte.htm', 'Montenegro'], ['monts.htm', 'Montserrat'], ['moroc.htm', 'Morocco'], ['mozam.htm', 'Mozambique'], ['myanm.htm', 'Myanmar'], ['namib.htm', 'Namibia'], ['nauru.htm', 'Nauru'], ['nearare.htm', 'Near and Middle East Regional'], ['nepal.htm', 'Nepal'], ['nethe.htm', 'Netherlands'], ['newca.htm', 'New Caledonia'], ['newze.htm', 'New Zealand'], ['nicar.htm', 'Nicaragua'], ['niger.htm', 'Niger'], ['nigei.htm', 'Nigeria'], ['niue.htm', 'Niue'], ['norfo.htm', 'Norfolk Island'], ['northre.htm', 'North America Regional'], ['nkore.htm', 'North Korea'], ['maced.htm', 'North Macedonia'], ['nmari.htm', 'Northern Mariana Islands'], ['norwa.htm', 'Norway'], ['oman.htm', 'Oman'], ['pacifre.htm', 'Pacific Regional'], ['pakis.htm', 'Pakistan'], ['palau.htm', 'Palau'], ['pales.htm', 'Palestine'], ['panam.htm', 'Panama'], ['papua.htm', 'Papua New Guinea'], ['parag.htm', 'Paraguay'], ['peru.htm', 'Peru'], ['phili.htm', 'Philippines'], ['pitca.htm', 'Pitcairn'], ['polan.htm', 'Poland'], ['portu.htm', 'Portugal'], ['puert.htm', 'Puerto Rico'], ['qatar.htm', 'Qatar'], ['reuni.htm', 'Reunion'], ['roman.htm', 'Romania'], ['russi.htm', 'Russia'], ['rwand.htm', 'Rwanda'], ['saba.htm', 'Saba'], ['saint_barthelemy.htm', 'Saint Barthelemy'], ['shele.htm', 'Saint Helena, Ascension, and'], ['shele.htm', 'Tristan da Cunha'], ['stkit.htm', 'Saint Kitts and Nevis'], ['stluc.htm', 'Saint Lucia'], ['saint_martin.htm', 'Saint Martin'], ['stpie.htm', 'Saint Pierre and Miquelon'], ['stvin.htm', 'Saint Vincent and&nbsp; Grenadines'], ['samoa.htm', 'Samoa'], ['sanma.htm', 'San Marino'], ['saoto.htm', 'Sao Tome and Principe'], ['saudi.htm', 'Saudi Arabia'], ['seneg.htm', 'Senegal'], ['yugos.htm', 'Serbia'], ['seych.htm', 'Seychelles'], ['sierr.htm', 'Sierra Leone'], ['singa.htm', 'Singapore'], ['sint_maarten.htm', 'Sint Maarten'], ['slova.htm', 'Slovakia'], ['slove.htm', 'Slovenia'], ['solom.htm', 'Solomon Islands'], ['somal.htm', 'Somalia'], ['safri.htm', 'South Africa'], ['southre.htm', 'South America Regional'], ['sgeor.htm', 'South Georgia and South Sandwich Islands'], ['skore.htm', 'South Korea'], ['south_sudan.htm', 'South Sudan'], ['spain.htm', 'Spain'], ['srila.htm', 'Sri Lanka'], ['sudan.htm', 'Sudan'], ['surin.htm', 'Suriname'], ['svalb.htm', 'Svalbard and Jan Mayen Islands'], ['swede.htm', 'Sweden'], ['switz.htm', 'Switzerland'], ['syria.htm', 'Syria'], ['taiwa.htm', 'Taiwan'], ['tajik.htm', 'Tajikistan'], ['tanza.htm', 'Tanzania'], ['thail.htm', 'Thailand'], ['etimo.htm', 'Timor Leste'], ['togo.htm', 'Togo'], ['tonga.htm', 'Tonga'], ['trini.htm', 'Trinidad and Tobago'], ['tunis.htm', 'Tunisia'], ['turke.htm', 'Turkey'], ['turkm.htm', 'Turkmenistan'], ['turks.htm', 'Turks and Caicos Islands'], ['tuval.htm', 'Tuvalu'], ['ugand.htm', 'Uganda'], ['ukrai.htm', 'Ukraine'], ['uarab.htm', 'United Arab Emirates'], ['uking.htm', 'United Kingdom'], ['united_nations.htm', 'United Nations'], ['unite.htm', 'United States'], ['virgi.htm', 'United States Virgin Islands'], ['urugu.htm', 'Uruguay'], ['uzbek.htm', 'Uzbekistan'], ['vanua.htm', 'Vanuatu'], ['venez.htm', 'Venezuela'], ['vietn.htm', 'Vietnam'], ['walli.htm', 'Wallis and Futuna Islands'], ['west_africa_regional.htm', 'West Africa Regional'], ['wsaha.htm', 'Western Sahara'], ['yemen.htm', 'Yemen'], ['zambi.htm', 'Zambia'], ['zimba.htm', 'Zimbabwe']]\n"
          ]
        }
      ]
    },
    {
      "cell_type": "markdown",
      "source": [
        "###Getting sublinks portion \n",
        "- using website url if drive file not working \n",
        "- getting additional newslinks if newslinks are classified per state "
      ],
      "metadata": {
        "id": "KNYscqnoEmUN"
      }
    },
    {
      "cell_type": "code",
      "source": [
        "#general function that gets news sources for a country \n",
        "\n",
        "def get_sublinks_general(sublink): \n",
        "  def get_sublinks_drive(sublink):\n",
        "    file_path = root_directory_newslinks + sublink\n",
        "    with open(file_path) as response:\n",
        "      soup = BeautifulSoup(response, 'html.parser')\n",
        "      sublinks_list = []\n",
        "      for anchor in soup.find_all('a'):\n",
        "        #print(anchor.get('href', '/'))\n",
        "        sublink = anchor.get('href', '/')\n",
        "        sublinks_list.append(sublink)  \n",
        "    #print(sublinks_list)\n",
        "    return sublinks_list\n",
        "\n",
        "  def get_sublinks_via_url(sublink):\n",
        "    CountryRegion_url = website_head + sublink\n",
        "    with urlopen(CountryRegion_url) as response:\n",
        "      soup = BeautifulSoup(response, 'html.parser')\n",
        "      sublinks_list = []\n",
        "      for anchor in soup.find_all('a'):\n",
        "        #print(anchor.get('href', '/'))\n",
        "        sublink = anchor.get('href', '/')\n",
        "        sublinks_list.append(sublink)  \n",
        "    #print(sublinks_list)\n",
        "    return sublinks_list\n",
        "\n",
        "  def get_sublinks_of_sublinks(sublink, sublink_list):\n",
        "    country_tag = sublink.replace(\".htm\", \"\")\n",
        "    for htm_link in sublink_list:\n",
        "      if ((country_tag in htm_link) & (htm_link !=sublink) & (\"http\" not in htm_link)):\n",
        "        additional_links = get_sublinks_general(htm_link)\n",
        "        for add_link in additional_links:\n",
        "          sublink_list.append(add_link)\n",
        "    return sublink_list\n",
        "\n",
        "  def filter_links(sublinks_list):\n",
        "    news_sources = [link for link in sublinks_list if ((\"http\" in link) & (\"abyznewslinks\" not in link))]\n",
        "    return news_sources\n",
        "\n",
        "  try: \n",
        "    news_sources = get_sublinks_drive(sublink)\n",
        "  except: \n",
        "    print(\"will get from direct website : \" + sublink)\n",
        "    news_sources = get_sublinks_via_url(sublink)\n",
        "\n",
        "  \n",
        "  #must add the part where I can get additional neww sources if country has sources \n",
        "  #divided into regions or states \n",
        "  get_sublinks_of_sublinks(sublink, news_sources)\n",
        "\n",
        "  news_sources_filtered = filter_links(news_sources)\n",
        "\n",
        "  return news_sources_filtered \n"
      ],
      "metadata": {
        "id": "1lNPAC23DHr3"
      },
      "execution_count": 6,
      "outputs": []
    },
    {
      "cell_type": "code",
      "source": [
        "text = \"canad.htm\"\n",
        "text.replace(\".htm\", \"\")"
      ],
      "metadata": {
        "colab": {
          "base_uri": "https://localhost:8080/",
          "height": 35
        },
        "id": "y0Bmf9HBqdky",
        "outputId": "6fa7e6b3-dc37-4720-8fcb-33b1fa57ee69"
      },
      "execution_count": 7,
      "outputs": [
        {
          "output_type": "execute_result",
          "data": {
            "text/plain": [
              "'canad'"
            ],
            "application/vnd.google.colaboratory.intrinsic+json": {
              "type": "string"
            }
          },
          "metadata": {},
          "execution_count": 7
        }
      ]
    },
    {
      "cell_type": "code",
      "source": [
        "print(get_sublinks_general(\"canad.htm\"))"
      ],
      "metadata": {
        "colab": {
          "base_uri": "https://localhost:8080/"
        },
        "id": "Y4TioXXlEirm",
        "outputId": "1d15764c-2ce4-471b-b6b9-64d642e9de81"
      },
      "execution_count": 8,
      "outputs": [
        {
          "output_type": "stream",
          "name": "stdout",
          "text": [
            "['http://bloombergtv.ca/', 'https://www.bnnbloomberg.ca/', 'http://www.cbc.ca/', 'http://www.cpac.ca/en/', 'http://www.cpac.ca/fr/', 'http://www.ctvnews.ca/', 'https://globalnews.ca/', 'http://ici.radio-canada.ca/', 'http://www.rcinet.ca/ar/', 'http://www.rcinet.ca/en/', 'http://www.rcinet.ca/fr/', 'http://www.rcinet.ca/es/', 'http://www.rcinet.ca/zh/', 'http://www.rds.ca/', 'http://www.sportsnet.ca/', 'http://www.tsn.ca/', 'http://tvanouvelles.ca/', 'http://www.aol.ca/', 'http://beaconnews.ca/', 'http://www.bourque.org/', 'http://www.breakingnews.ca/', 'https://businessincanada.com/', 'http://o.canada.com/', 'http://www.businessreviewcanada.ca/', 'http://www.canadafreepress.com/', 'https://canadajournal.net/', 'http://www.canadanews.net/', 'http://www.canadastandard.com/', 'http://www.canadaviews.ca/', 'http://www.agoracosmopolitan.com/', 'http://en.canoe.ca/home.html', 'http://fr.canoe.ca/', 'http://www.francopresse.ca/', 'https://news.google.com/news/?ned=ca', 'https://news.google.com/news/?ned=fr_ca', 'http://www.huffingtonpost.ca/', 'http://www.ipolitics.ca/', 'https://theconversation.com/ca-fr/', 'http://www.theloop.ca/', 'http://www.themarknews.com/', 'http://www.marketwired.com/?lang=en-en', 'http://www.marketwired.com/?lang=fr-ca', 'http://www2.morningstar.ca/homepage/h_ca.aspx?culture=en-CA', 'http://www2.morningstar.ca/homepage/h_ca.aspx?culture=fr-CA', 'http://www.msn.com/en-ca/news', 'http://www.msn.com/fr-ca/actualites/', 'http://www.nationalnewswatch.com/', 'http://www.nationalobserver.com/', 'http://www.newswatchcanada.ca/', 'https://www.opencanada.org/', 'http://www.politicswatch.com/', 'https://pressprogress.ca/', 'http://rabble.ca/', 'http://www.thescore.com/', 'http://www.sympatico.ca/defaultf.aspx?lang=fr-CA', 'https://theconversation.com/ca/', 'https://www.thepostmillennial.com/', 'http://www.troymedia.com/', 'http://www.westernstandard.ca/website/', 'https://ca.news.yahoo.com/', 'http://www.canadianbusiness.com/', 'http://www.cbj.ca/', 'https://canadiandimension.com/', 'https://ca.hellomagazine.com/', 'http://www.lactualite.com/', 'http://www.macleans.ca/', 'http://www.moneysense.ca/', 'http://www.profitguide.com/', 'http://thewalrus.ca/', 'http://www.anglicanjournal.com/', 'http://www.cjnews.com/', 'http://www.christianweek.org/', 'http://www.embassynews.ca/', 'https://business.financialpost.com/', 'http://www.firstnationsdrum.com/', 'http://www.theglobeandmail.com/', 'http://www.hilltimes.com/', 'http://www.lapresse.ca/actualites/montreal/', 'http://www.journaldemontreal.com/', 'http://metronews.ca/', 'http://montrealgazette.com/', 'http://www.nationalpost.com/index.html', 'http://www.northernminer.com/', 'http://www.thestar.com/', 'http://www.torontosun.com/', 'http://www.ucobserver.org/', 'http://www.vancouversun.com/index.html', 'http://www.ammsa.com/publications/windspeaker/', 'http://www.thecanadianpress.com/?LangType=1033', 'http://www.newswire.ca/en/index', 'http://www.newswire.ca/fr/index', 'http://www.thecanadianpress.com/?LangType=1036', 'https://ca.reuters.com/', 'https://www.albertanativenews.com/', 'http://albertapolitics.ca/', 'http://www.ammsa.com/publications/alberta-sweetgrass/', 'http://albertaventure.com/', 'https://albertaviews.ab.ca/', 'http://www.businessedge.ca/', 'http://alberta.ctvnews.ca/', 'http://daveberta.ca/', 'http://www.huffingtonpost.ca/alberta/', 'http://www.producer.com/', 'http://www.airdriecityview.com/', 'http://www.airdrieecho.com/', 'http://www.discoverairdrie.com/', 'http://www.heresthescoop.ca/', 'http://www.rockyviewweekly.com/', 'http://www.athabascaadvocate.com/', 'http://www.941theriver.ca/', 'https://www.voicemagazine.org/', 'http://www.thecragandcanyon.ca/', 'http://www.barrheadleader.com/', 'http://www.979therange.ca/', 'https://www.bashawstar.com/', 'http://www.thebeaumontnews.ca/', 'https://townandcountrynews.ca/', 'https://www.lakelandtoday.ca/', 'http://lakelandconnect.net/', 'http://www.mylakelandnow.com/', 'http://www.bowislandcommentator.com/', 'http://www.highcountrynews.ca/', 'http://www.brooksbulletin.com/', 'http://www.brooksonline.ca/', 'http://www.brooksbulletin.com/', 'https://www.660citynews.com/', 'http://www.newstalk770.com/', 'http://www.businessincalgary.com/', 'http://calgarybuzz.com', 'http://calgaryherald.com/', 'http://www.calgarysun.com/', 'http://www.tcctnews.com/', 'http://canadianlatinonewspaper.com/', 'http://www.calgarydiocese.ca/', 'http://www.cbc.ca/news/canada/calgary', 'http://www.calgarychristian.com/', 'http://www.btcalgary.ca/', 'http://calgary.ctvnews.ca/', 'https://dailyhive.com/', 'http://e-paper.epochtimes.com/Calgary/', 'http://www.thegauntlet.ca/', 'https://globalnews.ca/calgary/', 'http://iran-khabar.com/', 'https://kerbynews.ca/', 'http://www.abjournal.ca/', 'http://laprensacanada.com/', 'http://francocalgary.newspaperdirect.com/epaper/viewer.aspx', 'http://www.metronews.ca/calgary.html', 'http://orientalweekly.net/', 'http://punjabinational.com/', 'http://www.thereflector.ca/', 'http://calgary.singtao.ca/', 'http://calgaryherald.com/category/life/swerve', 'https://www.sprawlcalgary.com/', 'http://trendweekly.com/', 'http://theweal.com/', 'http://www.com-voice.com/', 'http://www.cfcw.com/', 'http://camrosebooster.com/', 'http://www.camrosemorningnews.com/', 'http://www.rmoutlook.com/', 'http://www.templecitystar.net/', 'http://www.carstairscourier.ca/', 'https://www.castoradvance.com/', 'http://www.theanchor.ca/', 'http://www.claresholmlocalpress.ca/', 'http://www.sunnysouthnews.com/', 'http://www.cochraneeagle.com/', 'https://cochranenow.com/', 'http://www.cochranetimes.com/', 'http://www.coldlakesun.com/', 'https://respectnews.ca/', 'http://www.thecouriernewspaper.ca/', 'http://www.consortenterprise.com/', 'http://ecareview.com/', 'http://www.hitchingpostnews.com/', 'http://www.realcountrysouthwest.ca/', 'http://www.passherald.ca/', 'http://www.devondispatch.ca/', 'http://www.didsburyreview.ca/', 'http://bigwestcountry.ca/', 'http://www.draytonvalleywesternreview.com/', 'http://910cfcw.com/', 'http://www.drumhellermail.com/', 'http://www.drumhelleronline.com/', 'http://www.drumhellermail.com/', 'https://www.eckvilleecho.com/', 'https://globalnews.ca/radio/630ched/', 'https://www.albertaprimetimes.com/', 'http://www.cbc.ca/news/canada/edmonton', 'http://edmonton.ctvnews.ca/', 'http://www.thechinesejournal.com/', 'https://edmonton.citynews.ca/', 'http://www.despardestimes.com/', 'http://www.deshvideshtimes.com/', 'http://www.edmontonchinesenews.com/', 'http://www.edmontonexaminer.com/', 'http://edmontonjournal.com/', 'http://www.edmontonsun.com/', 'http://e-paper.epochtimes.com/Edmonton/', 'https://thegatewayonline.ca/', 'https://globalnews.ca/edmonton/', 'http://thegriff.ca/', 'http://www.inews880.com/', 'http://www.lefranco.ab.ca/', 'http://www.metronews.ca/edmonton.html', 'http://www.thenuggetonline.com/', 'http://punjabinational.com/', 'http://ici.radio-canada.ca/alberta/', 'http://www.vueweekly.com/', 'http://www.wcr.ab.ca/', 'http://www.parkallen.ca/Newsletters.aspx', 'http://bmcnews.org/', 'http://www.edmontonsun.com/topic/westernsentinel', 'http://www.theeagle.ca/', 'http://www.weeklyanchor.com/', 'https://www.lakelandtoday.ca/', 'http://www.fairviewpost.com/', 'http://smokyriverexpress.com/', 'http://www.fortmacleodgazette.com/', 'http://www.fortmacconnect.ca/', 'http://www.fortmcmurraytoday.com/', 'http://www.mix1037fm.com/', 'http://www.mymcmurray.com/', 'http://www.fortsaskonline.com/', 'http://www.fortsaskatchewanrecord.com/', 'http://www.sturgeoncreek.ca/', 'http://www.dailyheraldtribune.com/', 'http://www.discoverthepeacecountry.com/', 'https://everythinggp.com/', 'http://hqgrandeprairie.com/', 'http://www.mygrandeprairienow.com/', 'http://www.peacecountrysun.com/', 'http://www.hannaherald.com/', 'http://www.realcountryhighprairie.ca/', 'http://www.southpeacenews.com/', 'http://www.highriveronline.com/', 'http://www.highrivertimes.com/', 'http://hintonvoice.com/', 'http://www.innisfailprovince.ca/', 'http://www.fitzhugh.ca/', 'http://www.thejasperlocal.com/', 'http://lacreteonline.com/', 'https://www.lakelandtoday.ca/', 'http://www.lacombeexpress.com/', 'http://sunny94.com/', 'http://cowleynewspapers.com/farm-n-friends/', 'http://lamontleader.com/', 'http://www.langdonnews.ca/', 'http://www.countymarket.ca/', 'http://www.leducrep.com/', 'http://www.pipestoneflyer.ca/', 'http://www.931theone.ca/', 'http://westernstarpaper.com/', 'https://www.bridgecitynews.ca/', 'http://www.cjocfm.com/', 'http://calgary.ctvnews.ca/ctvlethbridge', 'http://lethbridgecampusmedia.ca/category/endeavour/', 'https://globalnews.ca/lethbridge/', 'http://lethbridgeherald.com/', 'http://lethbridgenewsnow.com/', 'http://www.shoppergroup.com/leth_shopper.html', 'http://www.lethsuntimes.com/', 'http://themeliorist.ca/', 'http://www.prairiepost.com/', 'http://www.981thebridge.ca/', 'http://www.citltv.ca/', 'http://www.cksatv.ca/', 'http://www.meridianbooster.com/', 'http://www.meridiansource.ca/', 'https://www.mylloydminsternow.com/', 'http://www.westwindweekly.com/', 'http://www.mayerthorpefreelancer.com/', 'http://chatnewstoday.ca/', 'http://www.cjcyfm.com/', 'http://medicinehatnews.com/', 'http://www.shoppergroup.com/mh_shopper.html', 'http://www.prairiepost.com/', 'http://cowleynewspapers.com/the-free-press/', 'http://cowleynewspapers.com/the-extra/', 'http://morinvillenews.com/', 'http://www.nantonnews.com/', 'http://www.okotoksonline.com/', 'http://www.westernwheel.com/', 'http://www.ckfm.ca/', 'http://www.mountainviewgazette.ca/', 'http://www.oldsalbertan.ca/', 'http://octv.ca/', 'http://www.rock104.ca/', 'http://www.com-voice.com/', 'http://www.lsac.ca/news/lac-ste-anne-bulletin', 'https://www.oyenecho.com/', 'http://www.kix106.net/', 'http://www.prrecordgazette.com/', 'http://www.ylcountry.com/', 'http://www.pinchercreekecho.com/', 'http://www.pinchercreekvoice.com/', 'http://www.shootinthebreeze.ca/', 'http://www.ponokanews.com/', 'http://www.provostnews.ca/', 'http://www.albertalocalnews.com/', 'http://channel6.ca/', 'http://www.sardc.ab.ca/student-newspaper/', 'http://rdnewsnow.com/', 'http://realcountryreddeer.ca/', 'http://www.reddeeradvocate.com/', 'http://www.reddeerexpress.com/', 'https://www.facebook.com/RedDeerNews.Area/', 'http://www.zed989.com/', 'http://cowleynewspapers.com/the-review/', 'http://www.rimbeyreview.com/', 'http://www.rock-e.ca/', 'http://thecommunitypress.com/', 'http://www.sherwoodparkindependentweekly.ca/', 'http://www.sherwoodparknews.com/', 'http://www.sherwoodparknews.com/', 'https://strathconabugle.ca/', 'http://www.lakefm.ca/', 'http://www.lakesideleader.com/', 'https://www.thecentralpeacesignal.ca/', 'http://www.sprucegroveexaminer.com/', 'http://www.stalbertgazette.com/', 'https://www.lakelandtoday.ca/', 'http://www.stettlerindependent.com/', 'http://www.stettlerindependent.com/weekender/', 'http://www.stonyplainreporter.com/', 'http://881theone.ca/', 'https://www.strathmorenow.com/', 'http://www.strathmoretimes.com/', 'http://www.sundreroundup.ca/', 'http://thegrizzlygazette.com/', 'http://www.sylvanlakenews.com/', 'http://www.tabertimes.com/', 'http://www.threehillscapital.com/', 'http://tofieldmerc.com/', 'http://www.vauxhalladvance.com/', 'http://www.country106.ca/', 'http://newsadvertiser.com/', 'http://vegobserver.com/', 'http://www.vermilionvoice.com/', 'http://www.vermilionstandard.com/', 'http://weeklyreview.ca/', 'http://www.vulcanadvocate.com/', 'http://www.com-voice.com/', 'http://www.fevernewspaper.com/', 'http://www.starnews.ca/', 'http://www.starnews.ca/', 'http://www.realcountrywestlock.ca/', 'http://www.westlocknews.com/', 'http://www.wetaskiwintimes.com/', 'http://www.whitecourtweb.com/whitecourt_advisor.htm', 'http://www.mytowntoday.ca/', 'http://www.therig.ca/', 'http://www.whitecourtpress.com', 'http://www.whitecourtstar.com/', 'http://www.bcbusiness.ca/', 'http://www.bclocalnews.com/', 'http://bcstudies.com/', 'http://www.bcmag.ca/', 'http://www.businessedge.ca/', 'http://www.huffingtonpost.ca/british-columbia/', 'http://www.publiceyeonline.com/', 'http://thetyee.ca/', 'http://www.abbynews.com/', 'http://www.abbotsfordtoday.ca/', 'http://ufvcascade.ca/', 'http://www.country1071.com/', 'http://www.agassizharrisonobserver.com/', 'http://www.aldergrovestar.com/', 'http://www.northof50.com/', 'http://www.okadvertiser.com/', 'http://www.ash-cache-journal.com/', 'http://www.starjournal.net/', 'http://www.belcarra.ca/barnacle/barnaclenewsletters.htm', 'http://www.bowenislandundercurrent.com/', 'http://www.burnabynow.com/', 'http://www.linkbcit.ca/', 'http://www.the-peak.ca/', 'http://www.ldnews.net/', 'http://www.campbellrivermirror.com/', 'http://www.mycampbellrivernow.com/', 'http://www.castlegarnews.com/', 'http://castlegarsource.com/', 'http://www.mykootenaynow.com/', 'http://www.chemainusvalleycourier.ca/', 'http://peacefm.ca/chet-tv/', 'http://peacefm.ca/', 'http://www.chetwyndecho.net/', 'http://www.theprogress.com/', 'http://www.chilliwacktimes.com/', 'http://fraservalleynewsnetwork.com', 'http://www.mychilliwacknews.com/', 'http://www.starfm.com/', 'http://www.clearwatertimes.com/', 'http://www.cloverdalereporter.com/', 'http://www.vicnews.com/eeditions/', 'http://www.cg.cfpsa.ca/cg-pc/Comox/EN/InformationandFAQ/Newspapers/Pages/TotemTimes.aspx', 'http://www.tricitynews.com/', 'http://www.comoxvalleyecho.com/', 'http://www.comoxvalleyrecord.com/', 'http://islandword.com/', 'http://www.mycomoxvalleynow.com/', 'http://www.973theeagle.com/', 'http://b104.ca/', 'http://www.dailytownsman.com/', 'http://www.e-know.ca/', 'http://www.kootenayadvertiser.com/', 'http://www.summit107.com/', 'http://thedrivefm.ca/', 'http://www.crestonvalleyadvance.ca/', 'http://www.mycrestonnow.com/', 'http://www.cjdccountry.com/', 'http://www.cjdctv.com/', 'http://www.northernhorizon.ca', 'http://www.delta-optimist.com/', 'http://www.cowichanvalleycitizen.com/', 'http://www.mycowichanvalleynow.com/', 'http://www.lookoutnewspaper.com/', 'http://www.thefreepress.ca/', 'http://www.fortnelsonnews.ca/', 'http://www.1023thebear.com/', 'http://www.caledoniacourier.com/', 'http://www.alaskahighwaynews.ca/', 'http://energeticcity.ca/', 'http://www.northeastnews.ca/', 'http://www.peacesunfm.com/', 'http://www.1015thebear.com/', 'http://www.soundernews.com/', 'http://www.island.net/~record/', 'http://golden.myezrock.com/', 'http://www.thegoldenstar.net/', 'http://boundarysentinel.com/', 'http://www.grandforksgazette.ca/', 'http://www.boundarycreektimes.com/', 'http://www.coastmountainnews.com/', 'http://www.hopestandard.com/', 'http://www.houston-today.com/', 'http://www.columbiavalleypioneer.com/', 'http://www.invermerevalleyecho.com/', 'http://www.cbc.ca/news/canada/kamloops', 'http://www.cfjctoday.com/', 'http://connectornews.ca/', 'http://www.kamloopsbcnow.com/', 'https://www.kamloopsmatters.com/', 'http://www.kamloopsthisweek.com/', 'http://truomega.ca/', 'http://www.radionl.com/', 'http://www.edgepublishing.ca/', 'http://www.edgepublishing.ca/', 'http://www.pennywiseads.com/', 'http://www.am1150.ca/', 'http://www.kelownacapnews.com/', 'http://www.cbc.ca/daybreaksouth/', 'http://www.kelownadailycourier.ca/', 'http://kelowna.myezrock.com/', 'https://globalnews.ca/okanagan/', 'https://www.kelownanow.com/', 'http://www.thephoenixnews.com/', 'http://www.thesun.net/', 'http://www.keremeosreview.com/', 'http://www.dailybulletin.ca/', 'http://kitimat.myezrock.com/', 'http://www.kitimatdaily.ca/', 'http://www.northernsentinel.com/', 'http://www.ladysmithchronicle.com/', 'http://www.lakecowichangazette.com/', 'http://www.langleyadvance.com/', 'http://www.langleytimes.com/', 'http://www.langleytoday.ca/', 'http://www.marshillonline.com/', 'http://www.lumbyvalleytimes.ca/', 'http://www.lillooetnews.net/', 'https://themacktownbuzzette.com/', 'http://www.mapleridgenews.com/', 'http://www.mrtimes.com/', 'http://www.merrittherald.com/', 'http://www.merrittnews.net/', 'http://www.q101.ca/', 'http://www.missioncityrecord.com/', 'http://www.arrowlakesnews.com/', 'http://www.nanaimobulletin.com/', 'http://www.thenav.ca/', 'http://nanaimonewsnow.com/', 'http://newsnanaimo.ca/', 'http://www.tmtv.net/newsroom.html', 'http://www.expressnews.ca/', 'http://kootenays.myezrock.com/', 'http://www.mynelsonnow.com/', 'http://thenelsondaily.com/', 'http://www.thenelsonpost.ca/', 'http://www.nelsonstar.com/', 'http://valleyvoice.ca/', 'http://www.bulkleybrowser.ca/', 'http://www.newwestrecord.ca/', 'http://theotherpress.ca/', 'http://www.capilanocourier.com/', 'http://www.nsnews.com/', 'http://www.vicnews.com/eeditions/', 'http://www.skahamatters.com/', 'http://www.oliverchronicle.com/', 'http://oliverdailynews.com/', 'http://www.100milefreepress.net/', 'http://www.mycariboonow.com/', 'http://osoyoos.myezrock.com/', 'http://www.osoyoostimes.com/', 'http://www.pqbnews.com/', 'http://www.885thebeach.com/', 'http://www.thelounge999.com/', 'http://www.peachlandview.com/', 'http://www.islandtides.com/', 'http://penticton.myezrock.com/', 'http://interiordailynews.com/', 'http://www.pentictonherald.ca/', 'http://www.pentictonwesternnews.com/', 'http://www.sunonline.ca/', 'http://www.pittmeadowstoday.ca/', 'http://www.albernivalleynews.com/', 'http://www.avtimes.net/', 'http://www.hashilthsa.com/', 'http://www.933thepeak.com/', 'http://www.mytriportnow.com/', 'http://www.northislandgazette.com/', 'http://ckpmfm.com', 'http://www.mypowellrivernow.com/', 'http://www.prpeak.com/', 'http://www.250news.com/news', 'http://www.cbc.ca/daybreaknorth/', 'http://www.ckpg.com/', 'http://www.myprincegeorgenow.com/', 'http://northernbcbusiness.com/', 'http://www.northernstar-online.com/', 'http://overtheedgenewspaper.ca/', 'http://www.princegeorgecitizen.com/', 'http://www.pgfreepress.com/', 'https://www.princegeorgematters.com/', 'http://www.1013theriver.com/', 'http://princerupert.myezrock.com/', 'http://www.thenorthernview.com/', 'http://www.thenewsleader.ca/', 'http://www.similkameenspotlight.com/', 'http://www.discoveryislands.ca/news/', 'http://www.haidagwaiiobserver.com/', 'http://www.mycariboonow.com/', 'http://www.quesnelobserver.com/', 'http://revelstoke.myezrock.com/', 'http://www.revelstokecurrent.com/', 'https://www.revelstokemountaineer.com/', 'http://www.revelstokereview.com/', 'http://www.richmond-news.com/', 'http://www.rosslandnews.com/', 'http://rosslandtelegraph.com/', 'http://www.vicnews.com/eeditions/', 'http://salmonarm.myezrock.com/', 'http://www.friam.ca/', 'http://www.lakeshorenews.bc.ca/', 'http://www.saobserver.net/', 'https://issuu.com/blackpress/stacks/291ed738a00c43f0a6a2f61cc3b1a2e7', 'http://gulfislandsdriftwood.com/', 'http://www.coastreporter.net/', 'http://www.thelocalweekly.ca/', 'http://www.mycoastnow.com/', 'http://www.eaglevalleynews.com/', 'http://www.vicnews.com/eeditions/', 'http://www.mybulkleylakesnow.com/', 'http://www.interior-news.com/', 'http://www.sookenewsmirror.com/', 'http://www.elkvalleyherald.ca/', 'http://www.squamishchief.com/', 'http://www.squamishreporter.com/', 'http://summerland.myezrock.com/', 'http://www.summerlandreview.com/', 'http://sunpeaksnews.com/', 'http://www.indulgemagazine.ca/', 'http://www.surreyleader.com/', 'http://www.thenownewspaper.com/', 'http://pulsefm.ca', 'http://runnermag.ca/', 'http://www.cftktv.com/', 'http://www.cjfw.ca/', 'http://terrace.myezrock.com/', 'http://www.terracestandard.com/eeditions/', 'http://www.terracedaily.ca/cgi-bin/show_home.cgi', 'http://www.terracestandard.com/', 'http://tofinonews.blogspot.ca/', 'http://www.westerlynews.ca/', 'http://kootenays.myezrock.com/', 'http://trailchampion.com/', 'http://www.traildailytimes.ca/', 'http://tumblerridgenews.com/', 'http://www.therockymountaingoat.com/', 'http://www.thevalleysentinel.com/', 'http://www.theafronews.com/', 'http://cknewsgroup.ca/', 'http://www.am1320.com/', 'http://www.asianpacificpost.com/', 'https://issuu.com/theasianstar', 'https://issuu.com/theasianstar', 'http://globalnews.ca/bc/program/bc-1', 'http://www.bccatholic.ca/', 'https://www.bnnbloomberg.ca/vancouver/', 'http://www.btvancouver.ca/', 'https://www.biv.com/', 'http://www.cbc.ca/news/canada/british-columbia', 'http://celtic-connection.com/', 'https://www.citynews1130.com/', 'https://globalnews.ca/radio/cknw/', 'http://www.elcontactolatino.com/', 'http://bc.ctvnews.ca/', 'http://www.epochtimes.com/b5/ncid1143942.htm', 'http://www.am1470.com/home_c.php', 'http://www.thefilipinopost.com/', 'http://www.straight.com/', 'https://globalnews.ca/bc/', 'http://www.goodnewsweekly.ca/', 'http://www.indocanadiantimes.com/', 'http://www.voiceonline.com/', 'http://www.jewishindependent.ca/', 'http://www.joinsmediacanada.com/', 'http://vancouver.koreadaily.com/', 'http://thelinkpaper.ca/', 'http://www.metronews.ca/vancouver.html', 'http://www.mingpaocanada.com/Van/', 'http://www.philippineasiannewstoday.com/', 'http://www.philippinejournalcanada.com/', 'http://www.punjabguardian.com/', 'http://punjabitribune.ca/', 'http://www.roundhouseradio.com/', 'http://vancouver.singtao.ca/', 'http://thelasource.com/', 'http://thelasource.com/', 'http://www.southasianpost.com/', 'http://ici.radio-canada.ca/colombie-britannique-et-yukon/', 'https://www.tsn.ca/radio/vancouver-1040', 'http://ubyssey.ca/', 'http://www.vancitybuzz.com', 'http://www.vanchosun.com/', 'http://www.vancourier.com/', 'http://vancouver.keizai.biz/', 'http://www.vancouverobserver.com/', 'http://www.theprovince.com/', 'http://vancouverreview.com/', 'http://www.v-shinpo.com/', 'http://www.vancouverstar.com/', 'http://www.vancouversun.com/', 'http://www.langaravoice.ca/', 'http://www.westender.com/', 'http://www.dailyxtra.com/', 'http://www.mynechakovalleynow.com/', 'http://www3.telus.net/nlnews/', 'http://www.ominecaexpress.com/', 'http://www.1075kiss.com/', 'http://www.vernonmorningstar.com/', 'http://www.thesunonline.ca/', 'http://www.cbc.ca/ontheisland/', 'http://www.cfax1070.com/', 'http://www.cheknews.ca/', 'http://vancouverisland.ctvnews.ca/', 'http://www.douglasmagazine.com/', 'http://focusonline.ca', 'http://www.martlet.ca/', 'http://www.mondaymag.com/', 'http://www.nexusnewspaper.com/', 'http://revweekly.com/', 'http://www.timescolonist.com/', 'http://www.vicnews.com/', 'http://www.jamesbaybeacon.ca/', 'http://www.westvanbeacon.ca/', 'http://www.piquenewsmagazine.com/', 'http://www.whistlerquestion.com/', 'http://www.peacearchnews.com/', 'http://www.whiterocksun.com/', 'http://www.mycariboonow.com/', 'http://www.wltribune.com/eeditions/', 'http://www.wltribune.com/', 'http://www.lakecountrycalendar.com/', 'http://www.agripost.ca/', 'http://www.businessedge.ca/', 'https://www.firstperspective.ca/', 'http://www.grassrootsnewsmb.com/', 'http://mytoba.ca/', 'http://www.producer.com/', 'http://www.pembinavalleyonline.com/', 'http://www.pembinatoday.ca/altonaecho', 'http://www.baldur-glenborogazette.ca/', 'http://www.clipper.mb.ca/', 'http://therecorder.ca/', 'http://www.discoverwestman.com/', 'http://www.brandonsun.com/', 'http://www.cklq.com/', 'http://www.thequill.ca/', 'http://www.westmanjournal.com/', 'http://www.carberrynews.ca/', 'http://www.pembinatoday.ca/carmanvalleyleader', 'http://www.southernmanitobareview.com/', 'http://730ckdm.com/', 'http://www.dauphinherald.com/', 'http://www.delorainetimes.ca/', 'http://www.southeastjournal.ca/', 'http://www.flinflononline.com/', 'http://www.thereminder.ca/', 'http://www.expressweeklynews.ca/', 'http://www.interlaketoday.ca/interlakespectator', 'http://www.grandviewexponent.com/', 'http://www.winnipegfreepress.com/our-communities/headliner/', 'http://www.killarneyguide.ca/', 'http://www.thewesterncanadian.ca/', 'http://www.melitanewera.ca/', 'http://minnedosatribune.com/', 'http://www.pembinatoday.ca/mordentimes', 'http://www.cj97radio.com/', 'http://www.mywestman.ca/', 'http://www.mywestman.ca/', 'http://www.sentinelcourier.com/', 'http://www.portagedailygraphic.com/', 'http://www.portagedailygraphic.com/', 'http://www.portageonline.com/', 'http://www.restonrecorder.ca/', 'http://www.dawsontrail.ca/', 'http://www.mywestman.ca/', 'http://www.theroblinreview.com/', 'http://www.russellbanner.com/', 'http://enterprisenews.ca/', 'http://www.interlaketoday.ca/', 'http://www.interlaketoday.ca/selkirkjournal', 'http://selkirkrecord.ca/', 'http://www.cg.cfpsa.ca/cg-pc/Shilo/EN/Newspapers/Pages/default.aspx', 'http://www.crossroadsthisweek.com/', 'http://www.sourisplaindealer.ca/', 'http://www.thecarillon.com/', 'http://www.mysteinbach.ca/', 'http://www.steinbachonline.com/', 'http://www.interlaketoday.ca/stonewallargusteulontimes', 'http://stonewallteulontribune.ca/', 'http://www.starandtimes.ca/', 'http://www.thepasonline.com/', 'http://www.opasquiatimes.com/', 'http://www.cbc.ca/news/canada/manitoba', 'http://www.thompsononline.ca/', 'http://www.thompsoncitizen.net/', 'http://www.thompsoncitizen.net/', 'http://www.trehernetimes.ca/', 'http://www.empireadvance.ca/', 'http://www.pembinatoday.ca/', 'http://www.winklermordenvoice.ca/', 'http://www.pembinatoday.ca/winklertimes', 'https://globalnews.ca/radio/cjob/', 'http://www.angperyodiko.ca/', 'http://www.cbc.ca/news/canada/manitoba', 'http://ici.radio-canada.ca/manitoba/', 'http://www.cbc.ca/news/canada/manitoba', 'http://ici.radio-canada.ca/manitoba/', 'http://winnipeg.ctvnews.ca/', 'http://filipinojournal.com/', 'https://globalnews.ca/winnipeg/', 'http://www.itvwinnipeg.com/', 'http://www.jewishpostandnews.ca/', 'http://la-liberte.mb.ca/', 'http://www.lh-inc.ca/', 'http://www.mbchinatimes.ca/', 'http://www.fenghuavoice.ca/', 'http://www.themanitoban.com/', 'http://mbherald.com/', 'http://www.portugueseinmanitoba.com/jornal_o_mundial.html', 'http://outwords.ca/', 'http://www.pilipino-express.com/', 'http://theprojector.ca/', 'http://www.winnipegrealestatenews.com/', 'http://www.ukrvoice.ca/', 'http://uniter.ca/', 'http://www.thevoxair.ca/', 'http://www.winnipegfreepress.com/', 'http://www.winnipegsun.com/', 'http://www.winnipegfreepress.com/our-communities/herald/', 'http://www.winnipegfreepress.com/our-communities/times/', 'http://www.winnipegfreepress.com/our-communities/lance/', 'http://www.winnipegfreepress.com/our-communities/souwester/', 'http://www.bondprinting.net/transcona-views', 'http://www.winnipegfreepress.com/our-communities/metro/', 'http://www.brunswickbusinessjournal.com/', 'http://www.nb.dailybusinessbuzz.ca/', 'http://www.atlanticfarmfocus.ca/', 'http://www.canadamunicipal.ca/', 'http://www.canadamunicipal.ca/municipalite/index.cfm?munid=47', 'http://www.max1049.ca/', 'http://www.ckle.fm/', 'https://www.telegraphjournal.com/northern-light/', 'http://www.canadamunicipal.ca/municipalite/index.cfm?munid=23', 'http://www.95cknb.ca/', 'http://www.lechodelabaie.ca/', 'https://www.telegraphjournal.com/tribune/', 'http://www.ckro.ca/', 'http://www.acadienouvelle.com/', 'http://www.canadamunicipal.ca/municipalite/index.cfm?munid=24', 'http://www.cfai.fm/', 'http://www.cjemfm.com/', 'http://www.infoweekend.ca/', 'https://www.telegraphjournal.com/le-madawaska/', 'http://theaquinian.net/', 'http://thebruns.ca/', 'http://www.cbc.ca/news/canada/new-brunswick', 'http://www.cbc.ca/news/canada/new-brunswick', 'http://www.fredfm.ca/', 'http://www.foxrocks.ca/', 'http://www.capitalfm.ca/', 'http://www.up931.com/', 'http://www.khj.ca/', 'https://www.telegraphjournal.com/daily-gleaner/', 'http://www.threecatsandadesigner.com/', 'http://ossekeag.ca/westides', 'http://www.k93.ca/', 'https://www.telegraphjournal.com/victoria-star/', 'http://ossekeag.ca/hampton-herald', 'http://www.canadamunicipal.ca/municipalite/index.cfm?munid=1', 'http://www.canadamunicipal.ca/municipalite/index.cfm?munid=22', 'http://www.993theriver.com/', 'http://www.959sunfm.com/', 'https://www.telegraphjournal.com/miramichi-leader/', 'http://www.miramichionline.com/', 'http://ici.radio-canada.ca/acadie/', 'http://ici.radio-canada.ca/acadie/', 'http://www.cbc.ca/news/canada/new-brunswick', 'http://www.xl96.com/', 'http://atlantic.ctvnews.ca/', 'http://lefront.ca/', 'https://www.telegraphjournal.com/letoile/', 'https://www.telegraphjournal.com/times-transcript/', 'http://ossekeag.ca/valley-viewer', 'http://argosy.mta.ca/', 'http://www.sackvilletribunepost.com/', 'http://www.canadamunicipal.ca/municipalite/index.cfm?munid=14', 'http://www.cbc.ca/news/canada/new-brunswick', 'http://www.rock889.ca/', 'http://www.country94.ca/', 'https://globalnews.ca/new-brunswick/', 'https://www.telegraphjournal.com/greater-saint-john/', 'http://www.arcf-sj.org/archives_saint_jeannois.htm', 'https://www.telegraphjournal.com/telegraph-journal/', 'http://moniteuracadien.com/', 'http://www.canadamunicipal.ca/municipalite/index.cfm?munid=3', 'http://www.thetide.ca/', 'http://stcroixcourier.ca/', 'http://www.canadamunicipal.ca/municipalite/echo.cfm?munid=21', 'https://www.telegraphjournal.com/kings-county-record/', 'http://ossekeag.ca/sussex-herald', 'http://www.canadamunicipal.ca/municipalite/index.cfm?munid=47', 'https://www.telegraphjournal.com/bugle-observer/', 'http://www.cj104.com/', 'http://www.allnewfoundlandlabrador.com/', 'http://www.nl.dailybusinessbuzz.ca/', 'http://www.atlanticfarmfocus.ca/', 'http://www.nfherald.com/', 'http://www.nlnewsnow.com/', 'http://www.cbncompass.ca/', 'http://www.thepacket.ca/', 'http://www.cbc.ca/news/canada/newfoundland-labrador', 'http://www.cfcbradio.com/', 'http://www.thewesternstar.com/', 'http://www.ganderbeacon.ca/', 'http://www.cbc.ca/news/canada/newfoundland-labrador', 'http://www.gfwadvertiser.ca/', 'http://www.cbc.ca/news/canada/newfoundland-labrador', 'http://www.cbc.ca/news/canada/newfoundland-labrador', 'http://www.thelabradorian.ca/', 'http://www.theaurora.ca/', 'http://www.cbc.ca/news/canada/newfoundland-labrador', 'http://www.lportepilot.ca/', 'http://www.southerngazette.ca/', 'http://www.theshorelinenews.com/', 'http://www.gulfnews.ca/', 'http://www.northernpen.ca/', 'http://anglicanlife.blogspot.com/', 'http://anglicanlife.blogspot.com/', 'http://www.cbc.ca/news/canada/newfoundland-labrador', 'http://www.cbc.ca/news/canada/newfoundland-labrador', 'http://ntv.ca/', 'http://theindependent.ca/', 'http://www.gaboteur.ca/', 'http://themuse.ca/', 'http://thescope.ca/', 'http://www.snapstjohns.com/', 'http://www.thetelegram.com/', 'http://www.vocm.com/', 'http://www.thenorwester.ca/', 'http://www.cfsxradio.com/', 'http://www.gov.nt.ca/thisweek/news/', 'http://www.gov.nt.ca/thisweek/news/', 'http://www.nnsl.com/', 'http://uphere.ca/', 'http://upherebusiness.ca/', 'http://www.nnsl.com/dehcho/', 'http://www.hayriverhub.com/', 'http://www.cbc.ca/news/canada/north', 'http://www.nnsl.com/inuvik/', 'http://www.cbc.ca/news/canada/north', 'http://www.cbc.ca/news/canada/north', 'http://hqyellowknife.com/', 'http://www.aquilon.nt.ca/', 'http://journaux.apf.ca/aquilon/', 'http://www.nnsl.com/nwtnewsnorth/', 'http://www.nnsl.com/yellowknifer/', 'http://www.allnovascotia.com/', 'http://www.ns.dailybusinessbuzz.ca/', 'http://www.atlanticfarmfocus.ca/', 'http://www.dailybusinessbuzz.ca/', 'http://www.cumberlandnewsnow.com/', 'http://www.cumberlandnewsnow.com/', 'http://www.ckdh.net/', 'http://www.thecasket.ca/', 'http://www.989xfm.ca/', 'http://www.xaverian.ca/', 'http://www.victoriastandard.ca/', 'http://www.theshorelinejournal.com/', 'http://www.kingscountynews.ca/', 'http://hankfm.ca/', 'http://ckbw.ca/', 'http://www.southshorenow.ca/', 'http://www.southshorenow.ca/', 'http://www.southshorenow.ca/', 'http://thechronicleherald.ca/community/south-shore', 'http://www.southshorenow.ca/', 'http://www.digbycourier.ca/', 'http://www.enfieldweeklypress.com/', 'http://www.thelaker.ca/', 'http://www.auroranewspaper.com/', 'http://www.guysboroughjournal.com/', 'http://www.bargainhunterpress.com/', 'http://ici.radio-canada.ca/acadie', 'http://www.cbc.ca/news/canada/nova-scotia', 'http://www.cbc.ca/news/canada/nova-scotia', 'http://www.thechronicleherald.ca/', 'http://atlantic.ctvnews.ca/', 'http://www.news957.com/', 'http://www.thecoast.ca/', 'http://dalgazette.com/', 'https://globalnews.ca/halifax/', 'https://www.halifaxtoday.ca/', 'http://thechronicleherald.ca/community', 'http://thechronicleherald.ca/community/halifax', 'http://thesmujournal.ca/', 'http://www.metronews.ca/halifax.html', 'http://www.tridentnews.ca/', 'http://thechronicleherald.ca/community/bedford-sackville', 'http://www.burnsidenews.com/', 'http://thechronicleherald.ca/community/dartmouth', 'http://www.themastheadnews.ca/', 'http://www.invernessoran.ca/', 'http://www.k-rock893.com/', 'http://www.avrnetwork.com/', 'http://www.magic949.ca/', 'http://thechronicleherald.ca/community/annapolis-valley', 'http://www.kingscountynews.ca/', 'http://www.novanewsnow.com/', 'http://www.theadvance.ca/', 'http://www.lecourrier.com/', 'http://www.annapoliscountyspectator.ca/', 'http://www.ecfm.ca/', 'http://www.ngnews.ca/', 'http://oxfordjournal.ca/', 'http://www.pictouadvocate.com/', 'http://www.1015thehawk.com/', 'http://www.porthawkesburyreporter.com/', 'http://www.thecoastguard.ca/', 'http://www.capebretonpost.com/', 'http://www.cbc.ca/news/canada/nova-scotia', 'http://www.983maxfm.com/', 'http://www.cjcbradio.com/', 'http://www.tatamagouchelight.com/', 'http://www.bigdog1009.ca/', 'http://www.catcountry995.ca/', 'http://www.hubnow.ca/', 'http://www.trurodaily.com/', 'http://www.hantsjournal.ca/', 'http://grapevinepublishing.ca/', 'http://www.cjls.com/', 'http://www.thevanguard.ca/', 'http://www.nnsl.com/', 'http://www.cbc.ca/news/canada/north', 'http://www.nunatsiaqonline.ca/', 'http://www.nnsl.com/nunavutnews/', 'http://www.nnsl.com/kivalliqnews/', 'http://www.bonjourontario.ca/', 'http://www.businessedge.ca/', 'http://www.ontariofarmer.com/sitepages/', 'http://www.ontariofreepress.com/', 'https://www.ontarionewsnow.ca/', 'http://ontarionewswatch.com/', 'http://www.ontariopolicereports.com/', 'http://www.durhamregion.com/ajax-on/', 'http://www.glengarrynews.ca/', 'http://www.simcoe.com/alliston-on/', 'http://www.rivertowntimes.com/', 'http://www.insideottawavalley.com/arnprior-on/', 'http://www.arnpriortoday.ca/', 'http://www.southwesternontario.ca/community/arthur-enterprise-news/', 'http://atikokanprogress.ca/', 'http://www.newspapers-online.com/auroran/', 'http://www.yorkregion.com/aurora-on/', 'http://aylmerexpress.com/', 'http://www.ayrnews.ca/', 'http://www.newspapers-online.com/bancroft/', 'http://www.thebancrofttimes.ca/', 'http://www.simcoe.com/barrie-on/', 'http://www.barriefreepress.com/', 'https://www.barrietoday.com/', 'http://barrie.ctvnews.ca/', 'https://globalnews.ca/barrie/', 'http://edition.pagesuite-professional.co.uk/digitaleditions.aspx?tab=0&pid=c12546ed-9fa5-4fd3-847e-020a19e5a859', 'http://thelifeandtimes.ca/', 'http://www.simcoe.com/simcoecounty/', 'http://www.barrysbaythisweek.com/', 'http://www.thevalleygazette.ca/', 'http://www.mykawartha.com/brocktownship-on/', 'https://inquinte.ca/', 'http://www.intelligencer.ca/', 'http://www.qnetnews.ca/', 'http://shoppersmarket.classifiedextra.ca/', 'https://www.quintenews.com/', 'http://www.simcoe.com/bluemountains-on/', 'http://www.blythfreepress.com/', 'http://www.northhuron.on.ca/', 'http://thepromoter.ca/', 'http://www.durhamregion.com/clarington-on/', 'http://www.muskokaregion.com/bracebridge-on/', 'http://www.muskokaregion.com/', 'http://www.muskokaregion.com/bracebridge-on-topics/4205793-the-muskokan', 'https://www.bradfordtoday.ca/', 'http://www.simcoe.com/bradford-on/', 'http://www.bramptonfreepress.com/', 'http://www.bramptonguardian.com/brampton-on/', 'http://www.southasianfocus.ca/', 'http://www.brantfordexpositor.ca/', 'http://www.thesputnik.ca/', 'http://www.insidebelleville.com/brighton-on/', 'http://www.brockvillenewswatch.com/', 'http://www.recorder.ca/', 'http://www.northbaynipissing.com/almaguinhighlands-on/', 'http://www.insidehalton.com/burlington-on/', 'http://www.newspapers-online.com/caledon/', 'http://www.caledonenterprise.com/caledon-on/', 'http://www.therecord.com/waterlooregion-news/cambridge-reporter', 'http://www.cambridgetimes.ca/cambridge-on/', 'http://www.capreolonline.com/', 'http://www.insideottawavalley.com/carletonplace-on/', 'http://www.insideottawavalley.com/carletonplace-on/', 'http://www.chapleauexpress.ca/', 'http://www.chathamdailynews.ca/', 'http://www.chathamthisweek.com/', 'http://www.chathamvoice.com/', 'http://classifieds.chathamsmartshopper.com/', 'http://www.todaysfarmer.ca/', 'http://chestervillerecord.com/', 'http://www.agrinewsinteractive.com/', 'http://journalagricom.ca/', 'http://www.clintonfreepress.com/', 'http://www.clintonnewsrecord.com/', 'http://www.northumberlandnews.com/northumberlandcounty/', 'http://www.northumberlandview.ca/', 'http://www.cochranetimespost.ca', 'http://www.cramahenow.com/', 'https://www.collingwoodtoday.ca/', 'http://www.simcoe.com/collingwood-on/', 'http://cornwallfreenews.com/', 'https://www.cornwallnewswatch.com/', 'http://www.editionap.ca/the-journal', 'http://www.cornwallseawaynews.com/', 'http://www.standard-freeholder.com/', 'http://www.creemore.com/', 'http://www.magma.ca/~drcanrt/', 'http://dorchestersignpost.com/', 'http://www.wellingtonadvertiser.com/index.cfm?page=Community_News', 'http://www.ckdr.net/', 'http://thedrydenobserver.ca/', 'http://www.yorkregion.com/eastgwillimbury-on/', 'http://www.eganvilleleader.com/', 'https://www.elliotlaketoday.com/', 'http://www.elliotlakestandard.ca/', 'http://www.southwesternontario.ca/community/elmira-independent/', 'http://observerxtra.com/', 'http://www.springwaternews.ca/', 'http://www.editionap.ca/reflet-news', 'http://www.midnorthmonitor.com/', 'http://sxfreepress.com/', 'http://theessexvoice.com/', 'https://www.southwesternontario.ca/exeter-on-news/', 'http://www.southwesternontario.ca/community/fergus-elora-news-express/', 'http://www.wellingtonadvertiser.com/', 'http://www.thevoiceofpelham.ca/', 'http://www.niagarathisweek.com/forterie-on/', 'http://www.b93.ca/', 'http://www.fftimes.com/', 'http://www.gananoquereporter.com/', 'http://www.theifp.ca/', 'http://www.yorkregion.com/georgina-on/', 'http://www.thetimesstar.ca/', 'http://www.focusnewsmagazine.com/sitepages/', 'http://www.goderichfreepress.com/', 'http://www.goderichsignalstar.com/', 'http://www.grandbendfreepress.com/', 'http://grandbendstrip.com/', 'http://www.muskokaregion.com/gravenhurst-on/', 'http://muskoka411.com/', 'http://muskokanewswatch.com/', 'http://www.muskokatodaily.com/', 'http://www.muskokatoday.com/', 'http://www.niagarathisweek.com/grimsby-on/', 'http://wn3.ca/', 'http://www.thefountainpen.com/', 'https://globalnews.ca/guelph/', 'http://www.guelphfreepress.com/', 'http://www.guelphmercury.com/guelph-on/', 'https://www.guelphtoday.com/', 'http://www.guelphtribune.ca/', 'http://www.theontarion.com/', 'http://www.sachem.ca/', 'http://haliburtonecho.ca/', 'http://www.hamiltonfreepress.com/', 'http://highlanderonline.ca/', 'https://globalnews.ca/radio/900chml/', 'http://www.assaha.com/arab-hamilton-newspaper/', 'http://bayobserver.ca/', 'http://www.cbc.ca/hamilton/', 'http://www.chch.com/', 'http://www.hamiltonnews.com/', 'http://www.hamiltonfreepress.com/', 'http://www.hamiltonmagazine.com/sitepages/', 'http://www.thespec.com/hamilton/', 'http://www.leregional.com/', 'http://metronews.ca/news/hamilton/', 'http://www.thesil.ca/', 'http://www.viewmag.com/', 'http://www.hamiltonnews.com/community/ancaster/', 'http://www.hamiltonnews.com/community/dundas/', 'http://www.flamboroughreview.com/', 'http://www.sachem.ca/', 'http://www.hamiltonnews.com/community/hamilton-mountain/', 'http://www.hamiltonnews.com/community/stoney-creek/', 'https://www.greybrucethisweek.ca/', 'https://www.thepost.on.ca/', 'http://editionap.ca/', 'http://www.editionap.ca/le-carillon', 'http://www.editionap.ca/tribune-express', 'http://lenord.on.ca/', 'http://www.muskokaregion.com/huntsville-on/', 'http://www.mymuskokanow.com/', 'http://www.ingersolltimes.com/', 'http://www.simcoe.com/innisfil-on/', 'http://www.kapuskasingtimes.com/', 'http://www.kapuskasingtimes.com/', 'http://www.insideottawavalley.com/kemptville-on/', 'http://www.cjrl.ca/', 'http://www.kenoradailyminerandnews.com/', 'http://www.kenoraonline.com/', 'http://www.kincardinefreepress.com/', 'http://www.independent.on.ca/', 'http://www.kincardinenews.com/', 'http://www.yorkregion.com/king-on/', 'http://www.newspapers-online.com/king/', 'https://globalnews.ca/kingston/', 'http://www.kingstonthisweek.com/', 'http://www.thewhig.com/', 'https://www.kingstonist.com/', 'http://queensjournal.ca/', 'http://www.kingsvillereporter.com/', 'http://www.northernnews.ca/', 'http://www.businesstimes.on.ca/tri-cities/home/', 'http://www.cbc.ca/news/canada/kitchener-waterloo', 'http://kitchener.ctvnews.ca/', 'http://www.570news.com/', 'https://globalnews.ca/kitchener/', 'http://www.kitchenerfreepress.com/', 'http://www.kitchenerpost.ca/', 'https://www.kitchenertoday.com/', 'http://metronews.ca/news/kitchener/', 'http://blogs1.conestogac.on.ca/spoke/', 'http://www.therecord.com/waterlooregion/', 'http://www.connectionnewspaper.com/', 'http://www.lakefieldherald.com/', 'http://www.lanarkera.com/', 'http://www.southpointsun.ca/', 'http://www.mykawartha.com/kawarthalakes-on/', 'http://www.southwesternontario.ca/community/listowel-banner/', 'http://listowelfreepress.com/', 'https://www.manitoulin.ca/', 'http://www.manitoulin.ca/recorder-news/', 'https://globalnews.ca/radio/am980/', 'http://www.businesslondon.ca/sitepages/', 'http://www.cbc.ca/news/canada/toronto', 'http://london.ctvnews.ca/', 'http://www.cjbk.com/', 'http://www.westerngazette.ca/', 'http://www.fsu.ca/interrobang_main.php', 'http://www.laction.ca/', 'http://www.londoncommunitynews.com/london-on/', 'http://www.lfpress.com/', 'http://www.londonpennysaver.com/', 'http://www.thelondoner.ca/', 'http://www.lucknowsentinel.com/', 'http://www.theecho.ca/', 'http://1059theregion.com/', 'http://www.yorkregion.com/markham-on/', 'http://www.markhamfreepress.com/', 'http://www.markhamtoday.ca/', 'http://www.themeafordindependent.ca/', 'http://www.simcoe.com/midland-on/', 'http://themillbrooktimes.ca/', 'http://www.insidehalton.com/milton-on/', 'http://mindentimes.ca/', 'http://www.southwesternontario.ca/', 'http://edition.pagesuite-professional.co.uk/digitaleditions.aspx?tab=0&pid=bddf7590-1fc4-4193-bdc5-07c1d27b6d68', 'http://www.mississaugafreepress.com/', 'http://www.mississauga.com/mississauga-on/', 'http://millstonenews.com/', 'http://www.mitchelladvocate.com/', 'http://morrisburgleader.net/', 'http://www.southwesternontario.ca/community/mount-forest-confederate/', 'http://www.napaneebeaver.com/', 'http://www.napaneeguide.com/', 'http://www.newhamburgindependent.ca/', 'http://speaker.northernontario.ca/weekender/', 'http://speaker.northernontario.ca/', 'http://www.newtecumsethtoday.ca/', 'http://www.madhunt.com/', 'http://www.newspapers-online.com/tecumseth/', 'http://www.yorkregion.com/newmarket-on/', 'https://www.newmarkettoday.ca/', 'https://www.niagarafallsreview.ca/', 'http://www.niagarathisweek.com/niagarafalls-on/', 'http://www.scottishbanner.com/default.aspx', 'http://www.niagarathisweek.com/niagara-on-the-lake-on/', 'http://www.delhinewsrecord.com/', 'http://www.portdovermapleleaf.com/', 'http://www.norfolktoday.ca/', 'http://www.simcoereformer.ca/', 'http://www.baytoday.ca/', 'http://www.northbaynipissing.com/northbaynipissing/', 'http://www.nugget.ca/', 'http://www.ngtimes.ca/', 'http://www.banner.on.ca/', 'http://www.norwichgazette.com/', 'http://www.insidehalton.com/halton/', 'http://www.insidehalton.com/oakville-on/', 'http://www.oakvillefreepress.com/', 'http://oakvillenews.org/', 'http://sheridansunonline.sheridanc.on.ca/', 'http://www.theturtleislandnews.com/', 'http://www.orangeville.com/orangeville-on/', 'http://www.newspapers-online.com/orangeville/', 'https://www.orilliamatters.com/', 'http://www.simcoe.com/orillia-on/', 'https://globalnews.ca/durham/', 'http://www.durhamradionews.com/', 'http://www.durhamregion.com/', 'http://www.ocentral.ca/', 'http://www.oshawaexpress.ca/', 'http://www.oshawafreepress.com/', 'http://www.durhamregion.com/oshawa-on/', 'http://algonquintimes.com/', 'http://www.assaha.com/arabottawanewspaper/', 'http://canadachinanews.com/', 'http://www.cbc.ca/news/canada/ottawa', 'http://ici.radio-canada.ca/ottawa-gatineau/', 'http://ici.radio-canada.ca/ottawa-gatineau/', 'http://www.cbc.ca/news/canada/ottawa', 'http://www.vgatineau.ca/', 'http://www.cfra.com/', 'http://www.charlatan.ca/', 'http://www.tvagatineau.ca/', 'http://ottawa.ctvnews.ca/ctv-morning-live', 'http://www.1310news.com/', 'http://ottawa.ctvnews.ca/', 'http://www.fm1047.ca/', 'http://thefulcrum.ca/', 'https://globalnews.ca/ottawa/', 'http://ilpostinocanada.com/', 'http://www.larotonde.ca/', 'http://www.lapresse.ca/le-droit/', 'http://www.expressottawa.ca/', 'http://www.loradiottawa.ca/', 'http://muslimlink.ca/', 'http://www.obj.ca/', 'http://ottawacitizen.com/', 'http://www.ottawacommunitynews.com/ottawaregion/', 'http://www.ottawajewishbulletin.com/', 'http://www.ottawakorner.com/', 'https://www.ottawamatters.com/', 'http://www.ottawasun.com/', 'http://www.ottawaweekend.ca/', 'http://ottawaxpress.ca/', 'http://voir.ca/gatineauottawa/', 'http://dailyxtra.com/', 'http://www.barrhavenindependent.on.ca/', 'http://www.centretownbuzz.com/', 'http://www.centretownnews.ca/', 'http://www.glebereport.ca/', 'http://kitchissippi.com/', 'http://www.manorparkchronicle.com/', 'http://www.manotickmessenger.on.ca/', 'http://www.ottawacommunitynews.com/manotick-on/', 'http://www.newedinburgh.ca/new-edinburgh-news', 'http://www.mainstreeter.ca/', 'http://www.oldottawasouth.ca/oscar', 'http://www.orleansonline.ca/', 'http://www.orleansstar.ca/', 'http://home.imagesandyhill.org/', 'http://www.riverviewparkreview.ca/', 'https://stittsvillecentral.ca/', 'http://www.newswest.org/', 'https://westcarletononline.com/', 'http://www.owensoundsuntimes.com/', 'http://www.southwesternontario.ca/community/minto-express/', 'http://www.parisstaronline.com/', 'http://www.parrysound.com/parrysound/', 'http://www.parrysound.com/parrysound/', 'http://www.parrysound.com/parrysound/', 'http://www.thedailyobserver.ca/', 'http://journaux.apf.ca/legoutdevivre/', 'http://www.insideottawavalley.com/perth-on/', 'http://www.cg.cfpsa.com/CG-PC/PETAWAWA/EN/INFORMATIONANDFAQ/NEWSPAPERS/PETPOST/Pages/default.aspx', 'http://trentarthur.ca/', 'https://globalnews.ca/peterborough/', 'http://www.mykawartha.com/kawartha/', 'http://www.mykawartha.com/peterborough-on/', 'http://www.thepeterboroughexaminer.com/', 'http://petrolialambtonindependent.ca/', 'http://www.petroliatopic.com/', 'http://www.durhamregion.com/pickering-on/', 'http://www.countyweeklynews.ca/', 'http://www.pictongazette.com/', 'http://www.niagarathisweek.com/portcolborne-on/', 'http://www.shorelinebeacon.com/', 'http://www.durhamregion.com/scugog-on/', 'http://www.thestandardnewspaper.ca/', 'http://www.lebeacon.ca/', 'http://www.portstanleynews.com/', 'http://www.prescottjournal.com/', 'http://www.rainyriverrecord.com/', 'http://www.thenorthernsun.com/', 'http://www.renfrewtoday.ca/', 'http://www.insideottawavalley.com/renfrew-on/', 'http://www.yorkregion.com/richmondhill-on/', 'http://www.yorkregion.com/yorkregion/', 'http://www.editionap.ca/vision', 'http://russellvillager.com/', 'http://www.theobserver.ca/', 'http://www.sarniathisweek.com/', 'http://www.sarniathisweek.com/', 'http://www.saultthisweek.com/', 'http://www.saultstar.com/', 'http://thesentient.ca/', 'http://www.soonews.ca/', 'https://www.sootoday.com/', 'http://www.seaforthhuronexpositor.com/', 'http://www.frontenacnews.ca/', 'http://www.shelburnefreepress.ca/', 'http://www.simcoefreepress.com/', 'http://www.siouxbulletin.com/', 'http://www.wawataynews.ca/', 'http://www.insideottawavalley.com/ottawavalley/', 'http://www.insideottawavalley.com/smithsfalls-on/', 'http://www.brockpress.com/', 'http://www.610cktb.com/', 'http://www.niagarathisweek.com/stcatharines-on/', 'http://www.stcatharinesstandard.ca/', 'http://www.peer2000.com/', 'http://www.southwesternontario.ca/community/regional-country-news/', 'https://stmarysindy.com/', 'http://www.elgincountymarket.com/', 'http://www.theweeklynews.ca/elgincounty/', 'http://www.stthomastimesjournal.com/', 'http://www.simcoe.com/stayner-on/', 'http://www.communitypress.ca/', 'http://www.stratfordbeaconherald.com/', 'https://www.mystratfordnow.com/', 'http://www.stratfordfreepress.com/', 'http://www.strathroyagedispatch.com/', 'http://www.westnipissing.com/Home.html', 'http://www.westnipissing.com/Accueil.html', 'http://www.cbc.ca/news/canada/sudbury', 'http://ici.radio-canada.ca/ontario', 'http://northernontario.ctvnews.ca/', 'http://www.greatersudburyonline.ca/', 'http://thelambda.ca/', 'http://www.lavoixdunord.ca/', 'https://www.sudbury.com/', 'https://www.northernontariobusiness.com/', 'http://www.thesudburystar.com/', 'http://www.tavistock.on.ca/', 'http://www.niagarathisweek.com/niagara/', 'http://www.niagarathisweek.com/thorold-on/', 'https://www.thoroldnews.com/', 'http://www.theargus.ca/', 'http://www.norwestbuysell.com/', 'http://www.cbc.ca/news/canada/thunder-bay', 'http://www.chroniclejournal.com/', 'https://www.tbnewswatch.com/', 'http://www.magic999.ca/', 'https://www.tbnewswatch.com/', 'http://country1053.ca/', 'http://www.thewalleye.ca/', 'https://www.tbnewswatch.com/downloads/', 'http://eedition.theshopper.ca/', 'http://www.tillsonburgnews.com/', 'http://www.timminspress.com/', 'http://www.timminstimes.com/', 'https://www.timminstoday.com/', 'http://brucepeninsulapress.com/', 'https://globalnews.ca/radio/640toronto/', 'http://www.almughtarib.com/', 'http://www.arabnews.ca/', 'http://www.arabnews.ca/explore.html', 'http://www.assaha.com/arabtorontonewspaper/', 'http://www.assaha.com/', 'http://portal.brasilnews.ca/', 'http://www.canindia.com/', 'http://www.cjnews.com/', 'http://www.cbc.ca/news/canada/toronto', 'http://ici.radio-canada.ca/ontario', 'http://www.cbc.ca/news/canada/toronto', 'http://www.omnitv.ca/on/en/news/', 'http://www.newstalk1010.com/', 'http://toronto.ctvnews.ca/', 'http://www.680news.com/', 'http://www.citynews.ca/', 'http://ici.radio-canada.ca/ontario', 'http://www.sportsnet.ca/590/', 'http://www.corriere.com/', 'http://www.cp24.com/', 'http://dialog.studentassociation.ca/', 'http://diarioelpopular.com/', 'http://www.excal.on.ca/', 'http://www.eyeweekly.com/', 'http://theeyeopener.com/', 'https://business.financialpost.com/', 'https://globalnews.ca/toronto/', 'http://www.theglobeandmail.com/', 'http://www.thehinditimes.com/', 'http://humberetc.com/', 'http://www.insidetoronto.com/toronto/', 'http://toronto.koreadaily.com/', 'http://www.koreatimes.net/', 'http://www.lemetropolitain.com/', 'http://www.lexpress.to/', 'http://www.metronews.ca/toronto.html', 'http://www.mingpaocanada.com/Tor/', 'http://nashagazeta.ca/', 'http://www.nationalpost.com/index.html', 'http://www.neueweltonline.com/', 'http://www.e-nikka.ca/', 'http://www.novine.ca/', 'http://www.nowtoronto.com/', 'http://philippinereporter.com/', 'http://salamtoronto.ca/', 'http://sharenews.com/', 'http://news.singtao.ca/toronto/', 'http://www.solnet.com/', 'http://southasiandaily.com/', 'http://www.southasianobserver.com/', 'http://www.sundaytimescanada.com/', 'http://www.tandemnews.com/', 'http://thoibao.com/', 'http://edition.pagesuite-professional.co.uk/digitaleditions.aspx?tab=0&pid=3c6c3a99-fe07-4b69-9de6-b3221bd9098d', 'http://torontodaily.com', 'http://www.torontolife.com/', 'http://www.thestar.com/', 'http://www.torontosun.com/', 'http://torontoist.com/', 'http://www.tzta.ca/', 'http://www.vaikarai.com/', 'http://www.vapaasana.com/', 'http://thevarsity.ca/', 'http://vision-newspaper.ca/', 'http://www.voicenews.ca/', 'http://www.voiceoftoronto.com/', 'http://www.worldjournal.com/tor', 'http://dailyxtra.com/', 'http://www.beachmetro.com/', 'http://www.insidetoronto.com/beach-toronto-on/', 'http://www.insidetoronto.com/bloorwest-toronto-on/', 'http://www.insidetoronto.com/citycentre-toronto-on/', 'http://www.baystreettimes.com/modules/news/', 'http://thebulletin.ca/', 'http://www.insidetoronto.com/eastyork-toronto-on/', 'http://www.insidetoronto.com/etobicoke-toronto-on/', 'http://mytowncrier.ca/', 'http://mytowncrier.ca/', 'http://mytowncrier.ca/', 'http://www.insidetoronto.com/northyork-toronto-on/', 'http://www.insidetoronto.com/parkdale-toronto-on/', 'http://www.insidetoronto.com/scarborough-toronto-on/', 'http://the-underground.ca/', 'http://www.insidetoronto.com/york-toronto-on/', 'http://www.insidebelleville.com/trenthills-on/', 'http://thecontactnewspaper.cfbtrenton.com/', 'http://www.trentonian.ca/', 'http://thetweednews.ca/', 'http://www.durhamregion.com/uxbridge-on/', 'http://www.thecosmos.ca/', 'http://thereview.ca/', 'http://www.yorkregion.com/vaughan-on/', 'http://www.yorkregion.com/thornhill-on/', 'http://www.southwesternontario.ca/community/walkerton-herald-times/', 'http://www.wallaceburgcourierpress.com/', 'http://sydenhamcurrent.ca/', 'http://www.simcoe.com/wasagabeach-on/', 'http://www.thecord.ca/', 'http://www.uwimprint.ca/', 'http://www.waterloochronicle.ca/', 'http://www.waterloofreepress.com/', 'http://www.thealgomanews.ca/', 'http://www.wawa-news1.com/', 'http://www.niagara-news.com/', 'http://www.niagarathisweek.com/welland-on/', 'http://www.wellandtribune.ca/', 'http://www.thechronicle-online.com/', 'http://www.review-mirror.com/', 'http://www.durhamfreepress.com/', 'http://www.durhamregion.com/whitby-on/', 'http://www.stouffvillefreepress.com/', 'http://www.yorkregion.com/whitchurchstouffville-on/', 'http://www.wiartonecho.com/', 'http://www.winchesterpress.on.ca/', 'http://ici.radio-canada.ca/ontario', 'http://www.cbc.ca/news/canada/windsor', 'http://www.cbc.ca/news/canada/windsor', 'http://windsor.ctvnews.ca/', 'http://www.am800cklw.com/', 'http://uwindsorlance.ca/', 'http://www.lerempart.ca/', 'http://www.ourwindsor.ca/', 'http://www.windsorsquare.ca/', 'http://www.windsorstar.com/index.html', 'http://windsorite.ca/', 'http://www.southwesternontario.ca/community/wingham-advance-times/', 'http://www.thewinghamfreepress.com/', 'http://www.woodstocksentinelreview.com/', 'http://eedition.oxfordshoppingnews.com/', 'http://www.woodstocksentinelreview.com/', 'http://www.atlanticfarmfocus.ca/', 'http://www.peicanada.com/island_farmer/', 'http://www.lavoixacadienne.com/', 'http://journaux.apf.ca/lavoixacadienne/', 'http://www.peicanada.com/west_prince_graphic/', 'http://www.buzzon.com/', 'http://thecadre.ca/', 'http://ici.radio-canada.ca/acadie/', 'http://www.cbc.ca/news/canada/prince-edward-island', 'http://www.cbc.ca/news/canada/prince-edward-island', 'http://www.theguardian.pe.ca/', 'http://www.rebootbill.com/', 'http://www.peicanada.com/eastern_graphic/', 'http://www.peicanada.com/', 'http://www.journalpioneer.com/', 'http://argent.canoe.ca/', 'http://branchez-vous.com/', 'http://fr.canoe.ca/', 'http://www.hebdosregionaux.ca/', 'http://quebec.huffingtonpost.ca/', 'http://www.lapresse.ca/', 'http://www.lesaffaires.com/', 'http://magazinemci.com/', 'http://www.nationnews.ca/', 'http://www.quebecfarmers.org/advocate/', 'http://www.mrif.gouv.qc.ca/en/salle-de-presse/actualites/', 'http://www.mrif.gouv.qc.ca/fr/salle-de-presse/actualites/', 'http://ici.radio-canada.ca/', 'http://tvanouvelles.ca/', 'http://vtele.ca/', 'http://www.lapensee.qc.ca/', 'http://www.lbr.ca/', 'http://www.lelacstjean.com/', 'http://www.lechoabitibien.ca/', 'http://www.lavantposte.ca/', 'http://www.journallesactualites.ca/', 'http://ascot-corner.com/journal-communautaire/', 'http://www.vortexbagotville.com/', 'http://www.journalhcnouest.com/accueil.aspx', 'http://www.charlevoix.qc.ca/', 'http://www.oeilregional.com/', 'http://www.lactiondautray.com/', 'http://www.lareleve.qc.ca/', 'http://www.la-seigneurie.qc.ca/', 'http://www.brossardeclair.ca/', 'http://www.burysimagedebury.com/', 'http://www.echocantley.ca/', 'http://www.leradar.qc.ca/', 'http://chau.teleinterrives.com/', 'http://www.chamblyexpress.ca/', 'http://www.chamblymatin.com/', 'http://www.journaldechambly.com/', 'http://www.journallehavre.ca/', 'http://www.cybersoleil.com/', 'http://www.lasentinelle.ca/', 'http://www.lasentinelle.ca/', 'http://www.leprogres.net/', 'http://www.journalhsf.com/', 'http://www.journalleguide.com/', 'http://www.lereflet.qc.ca/', 'http://www.lepoint.ca/', 'http://www.nouvelleshebdo.com/', 'http://www.citesnouvelles.com/', 'http://montrealgazette.com/category/news/local-news/west-island-gazette', 'http://www.courrierdeportneuf.com/', 'http://www.westislandchronicle.com/', 'http://www.lemessagerweekend.ca/', 'http://www.journalexpress.ca/', 'http://www.laveniretdesrivieres.com/', 'http://www.journaltdn.ca/', 'http://www.journalhcnouest.com/accueil.aspx', 'http://www.radiogaspesie.ca/', 'http://www.lepharillon.ca/', 'http://www.cbc.ca/news/canada/ottawa', 'http://ici.radio-canada.ca/ottawa-gatineau/', 'http://ici.radio-canada.ca/ottawa-gatineau/', 'http://www.cbc.ca/news/canada/ottawa', 'http://www.vgatineau.ca/', 'http://www.tvagatineau.ca/', 'http://www.fm1047.ca/', 'http://www.info07.com/', 'http://www.journallarevue.com/', 'http://www.lapresse.ca/le-droit/', 'http://voir.ca/gatineauottawa/', 'http://www.bulletinaylmer.com/', 'http://www.lebulletin.net/', 'http://www.granbyexpress.com/', 'http://www.lapresse.ca/la-voix-de-lest/', 'http://journallephare.org/', 'http://www.gazettevaudreuilsoulanges.com/', 'http://www.laction.com/', 'http://www.lejournaldejoliette.ca/', 'http://www.easterndoor.com/', 'http://mtltimes.ca/', 'http://www.charlevoixendirect.com/', 'http://www.lafrontiere.ca/', 'http://www.lechodelatuque.com/', 'http://www.lechodelatuque.com/', 'http://www.lavoixdusud.com/', 'http://www.echodefrontenac.com/', 'http://www.editionap.ca/l-argenteuil', 'http://www.linformationdunordvalleedelarouge.ca/', 'http://www.linformationdunordvalleedelarouge.ca/', 'http://www.lepeuplelotbiniere.ca/', 'http://www.courrierlaval.com/', 'http://lavalnews.ca/', 'http://www.lechodelaval.ca/', 'http://www.lepeuplelevis.ca/', 'http://www.fm1033.ca/', 'http://www.lecourrierdusud.ca/', 'http://rivesudexpress.ca/', 'http://www.pointsud.ca/', 'http://www.lechodemaskinonge.com/', 'http://www.lerefletdulac.com/', 'http://www.outletjournal.com/', 'http://www.journalmalartic.com/', 'http://www.linformation.ca/', 'http://www.journallecourant.com/', 'http://www.valleedurichelieuexpress.ca/', 'http://www.tremblantexpress.com/', 'http://www.linformationdunordmonttremblant.ca/', 'http://www.linformationdunordmonttremblant.ca/', 'http://cmatv.ca/categorie/journal-virtuel/', 'http://24hmontreal.canoe.ca/', 'http://www.atlasmedias.com/', 'http://ici.radio-canada.ca/grandmontreal', 'http://ici.radio-canada.ca/grandmontreal', 'http://www.cbc.ca/news/canada/montreal', 'http://www.cbc.ca/news/canada/montreal', 'http://montreal.ctvnews.ca/', 'http://www.985fm.ca/', 'http://www.cjad.com/', 'http://www.btmontreal.ca/', 'http://theconcordian.com/', 'http://cultmontreal.com/', 'https://globalnews.ca/montreal/', 'http://www.horizonweekly.ca/', 'http://hour.ca/', 'http://www.cittadinocanadese.com/', 'http://www.lapresse.ca/actualites/montreal/', 'http://www.ledevoir.com/', 'http://www.journaldemontreal.com/', 'http://maroc-canada.ca/', 'http://www.mcgilldaily.com/', 'http://mcgilltribune.com/', 'http://journalmetro.com/', 'http://www.montrealcommunitycontact.com/', 'http://www.montrealexpress.ca/english-section-13582', 'http://www.montrealexpress.ca/', 'http://montrealgazette.com/', 'http://www.theseniortimes.com/', 'http://voir.ca/', 'http://www.courrierahuntsic.com/', 'http://www.courrierahuntsic.com/', 'http://www.lavoixpop.com/', 'http://www.lemagazineiledessoeurs.com/english-section-10952', 'http://www.lemagazineiledessoeurs.com/', 'http://www.messagerlachine.com/english-section-10925', 'http://www.messagerlachine.com/', 'http://www.messagerlasalle.com/english-section-10835', 'http://www.messagerlasalle.com/', 'http://www.leplateau.com/', 'http://www.flambeaudelest.com/', 'http://www.expressoutremont.com/', 'http://www.guidemtlnord.com/', 'http://www.expressoutremont.com/', 'http://www.px-news.com/', 'http://www.avenirdelest.com/', 'http://www.linformateurrdp.com/', 'http://www.linformateurrdp.com/', 'http://www.journalderosemont.com/', 'http://www.nouvellessaint-laurent.com/', 'http://www.thesuburban.com/', 'http://www.progresstleonard.com/', 'http://www.journaldestmichel.com/', 'http://www.messagerverdun.com/english-section-8744', 'http://www.messagerverdun.com/', 'http://www.leprogresvilleray.com/', 'http://www.coupdoeil.info/', 'http://www.gaspespec.com/', 'http://www.lechodelabaie.ca/', 'http://www.lecourriersud.com/', 'http://www.lannonceur.ca/', 'http://www.bignewsnetwork.com/index.php/cat/e9c1066a88f6611f/', 'http://ici.radio-canada.ca/quebec', 'http://www.cbc.ca/news/canada/montreal', 'http://ici.radio-canada.ca/quebec', 'http://tva.canoe.ca/stations/cfcm/', 'http://www.journaldequebec.com/', 'http://www.lapresse.ca/le-soleil/', 'http://www.qctonline.com/node', 'http://www.quebechebdo.com/', 'http://voir.ca/quebec/', 'http://www.beauportexpress.com/', 'http://www.charlesbourgexpress.com/', 'http://www.lequebecexpress.com/', 'http://www.lactuel.com/', 'http://impactcampus.qc.ca/', 'http://www.lappel.com/', 'http://www.hebdorivenord.com/', 'http://virtuel.businest.canoe.ca/', 'http://tva.canoe.ca/stations/cfer/', 'http://ici.radio-canada.ca/est-du-quebec', 'http://ici.radio-canada.ca/est-du-quebec', 'http://www.lavantage.qc.ca/', 'http://virtuel.visionterreetforet.canoe.ca/', 'http://cimt.teleinterrives.com/', 'http://www.infodimanche.com/', 'http://www.letoiledulac.com/', 'http://www.ns-news.com/', 'http://www.tvaabitibi.ca/', 'http://www.vabitibi.ca/', 'http://www.ladepeche.qc.ca/', 'http://www.lafrontiere.ca/', 'http://www.lafrontiere.ca/', 'http://ici.radio-canada.ca/regions/abitibi/index.shtml', 'http://www.journal-ensemble.org/', 'http://www.hebdosvalleyfield.ca/', 'http://www.hebdosvalleyfield.ca/', 'http://ici.radio-canada.ca/saguenay-lac-saint-jean', 'http://tva.canoe.ca/stations/cjpm/', 'http://www.ckrs.com/', 'http://ici.radio-canada.ca/saguenay-lac-saint-jean', 'http://www.journaldequebec.com/saglac', 'http://www.lapresse.ca/le-quotidien/', 'http://www.lereveil.ca/', 'http://voir.ca/saguenay/', 'http://lenord-cotier.com/', 'http://www.lejacquescartier.com/', 'http://www.lhebdodustmaurice.com/', 'http://www.theequity.ca/', 'http://ici.radio-canada.ca/estrie', 'http://tva.canoe.ca/stations/chlt/', 'http://www.fm1077.ca/', 'http://ici.radio-canada.ca/estrie', 'http://www.entreelibre.info/', 'http://www.lapresse.ca/la-tribune/', 'http://www.lejournaldesherbrooke.ca/', 'http://www.sherbrookerecord.com/', 'http://voir.ca/estrie/', 'http://www.fm1017.ca/', 'http://www.les2riveslavoix.ca/', 'http://www.les2riveslavoix.ca/', 'http://www.sorel-tracyexpress.ca/', 'http://www.lapetitenation.com/', 'http://www.journaldest-bruno.qc.ca/', 'http://www.leveil.com/', 'http://www.leveil.com/', 'http://www.saintfelixdekingsey.ca/journal.php', 'http://www.enbeauce.com/', 'http://www.beaucemedia.ca/', 'http://www.leclaireurprogres.ca/', 'http://journalmobiles.com/', 'http://www.leclairon.qc.ca/', 'http://www.leclairon.qc.ca/', 'http://www.lecourrier.qc.ca/accueil', 'http://www.canadafrancais.com/', 'http://www.lechodunord.ca/', 'http://www.journallenord.com/', 'http://www.lechodunord.ca/', 'http://www.lexpressmontcalm.com/', 'http://www.leplacoteux.com/', 'http://www.lejournaldespaysdenhautlavallee.ca/', 'http://www.lejournaldespaysdenhautlavallee.ca/', 'http://www.sainttitedescaps.com/journal-le-montagnard/', 'http://www.stanstead-journal.com/', 'http://www.tomifobia.com/', 'http://www.linformationdunordsainteagathe.ca/', 'http://www.linformationdunordsainteagathe.ca/', 'http://municipalite.sainte-anne-du-sault.qc.ca/archives-journal_municipal.php', 'http://www.lareleve.qc.ca/', 'http://www.infodeste-julie.qc.ca/', 'http://www.beaucemedia.ca/', 'http://www.journallecourrier.com/', 'http://www.lechodelarivenord.ca/', 'http://temiscamingcontact.org/', 'http://www.larevue.qc.ca/', 'http://www.letraitdunion.com/', 'http://www.courrierfrontenac.qc.ca/', 'http://ici.radio-canada.ca/mauricie', 'http://tva.canoe.ca/stations/chem/', 'http://www.fm1069.ca/', 'http://ici.radio-canada.ca/mauricie', 'http://www.lapresse.ca/le-nouvelliste/', 'http://www.lechodetroisrivieres.ca/', 'http://www.lhebdojournal.com/', 'http://voir.ca/mauricie/', 'http://www.ski-se-dit.info/', 'http://www.lechoabitibien.ca/', 'http://www.lechoabitibien.ca/', 'http://www.viva-media.ca/', 'http://www.viva-media.ca/', 'http://www.yourlocaljournal.ca/', 'http://www.lanouvelle.net/', 'http://www.journallereflet.com/', 'http://www.lowdownonline.com/', 'http://www.westmountexaminer.com/', 'http://www.westmountindependent.com/', 'http://www.letincelle.qc.ca/', 'http://www.businessedge.ca/', 'http://www.eaglefeathernews.com', 'http://www.ammsa.com/publications/saskatchewan-sage/', 'https://www.producer.com/', 'http://www.assiniboiatimes.ca/', 'http://www.biggarindependent.ca/', 'http://www.yourherald.ca/', 'http://www.canoracourier.com/', 'http://www.carlyleobserver.com/', 'http://leaderonline.ca/', 'http://www.eastendecho.ca/', 'http://www.minerjournal.com/', 'https://www.discoverestevan.com/', 'http://www.estevanmercury.ca/', 'http://www.sasklifestyles.com/', 'https://issuu.com/setraderexpress', 'http://www.foamlakereview.com/', 'https://grasslandsnews.ca/category/fort-times/', 'https://www.discoverhumboldt.com/', 'https://issuu.com/humboldtjournal/docs/east_central_trader/', 'http://www.humboldtjournal.ca/', 'http://www.kamsacktimes.com/', 'http://theclarion.ca/', 'https://www.kindersleysocial.ca/', 'http://westcentralcrossroads.ca/', 'https://www.westcentralonline.com/', 'http://www.kiplingcitizen.ca/', 'https://www.mbcradio.com/', 'https://www.laniganadvisor.com/', 'http://www.citltv.ca/', 'http://www.cksatv.ca/', 'http://www.meridianbooster.com/', 'http://www.lloydminstersource.com/', 'https://www.mylloydminsternow.com/', 'http://www.maplecreeknews.com/', 'http://www.maplecreeknews.com/', 'http://martensvillemessenger.ca/', 'http://www.meadowlakenow.com/', 'https://northernprideml.com/', 'http://www.melfortjournal.com/', 'https://northeastnow.com/', 'http://www.thebargainhunter.net/', 'https://grasslandsnews.ca/category/melville-advance/', 'https://www.discovermoosejaw.com/', 'http://www.mjvex.com/', 'http://www.world-spectator.com/', 'http://www.nipawinjournal.com/', 'http://nipawin.news/', 'http://www.newsoptimist.ca/', 'http://www.battlefordsnow.com/', 'https://issuu.com/battlefords-news-optimist', 'http://www.theoutlook.ca/', 'http://www.beaverriverbanner.com/', 'http://www.preecevilleprogress.com/', 'https://saskatoon.ctvnews.ca/prince-albert', 'http://panow.com/', 'https://paherald.sk.ca/', 'https://paherald.sk.ca/rural-roots-north/', 'http://www.620ckrm.com/', 'http://www.carillonregina.com/', 'http://www.cbc.ca/news/canada/saskatchewan', 'http://www.cjme.com/', 'http://www.620ckrm.com/', 'https://regina.ctvnews.ca/', 'https://globalnews.ca/regina/', 'http://leaderpost.com/', 'https://leau-vive.ca/', 'http://www.prairiedogmag.com/', 'http://ici.radio-canada.ca/saskatchewan', 'https://www.theseniorpaper.com/', 'http://www.saskvalleynews.com/', 'http://www.cbc.ca/news/canada/saskatoon', 'http://www.ckom.com/', 'https://saskatoon.ctvnews.ca/', 'https://globalnews.ca/saskatoon/', 'http://planetsmag.com/', 'http://www.sasknow.ca/', 'http://www.saskatoonexpress.com/', 'http://thesheaf.com/', 'http://thestarphoenix.com/', 'http://www.theshaunavonstandard.com/', 'http://shellbrookchronicle.com/', 'http://spiritwoodherald.com/', 'http://www.lastmountaintimes.ca/', 'http://www.swbooster.com/', 'http://www.mylocaltv.ca/', 'https://www.swiftcurrentonline.com/', 'http://www.tisdalerecorder.ca/', 'http://www.parklandreview.ca/', 'http://unitystories.com/', 'https://forumnews.ca/', 'https://wadenanews.ca/', 'http://ccgazette.ca/', 'https://www.twmnews.com/', 'https://www.discoverweyburn.com/', 'http://www.weyburnreview.com/', 'http://www.weyburnthisweek.com/', 'http://thestarnewspaper.ca/', 'https://grasslandsnews.ca/category/herald-sun/', 'http://wilkiestories.com/', 'https://regina.ctvnews.ca/yorkton', 'http://www.gx94radio.com/', 'http://www.yorktonthisweek.com/', 'http://www.gov.yk.ca/news/', 'http://www.yukoner.com/', 'http://klondikesun.com/', 'http://www.afy.yk.ca/secteurs/main/fr/index.php?site=aurore-boreale', 'http://www.cbc.ca/news/canada/north', 'http://www.cbc.ca/news/canada/north', 'http://www.whitehorsestar.com/', 'http://www.yukon-news.com/']\n"
          ]
        }
      ]
    },
    {
      "cell_type": "code",
      "source": [
        "print(get_sublinks_general(\"canadnt.htm\"))"
      ],
      "metadata": {
        "colab": {
          "base_uri": "https://localhost:8080/"
        },
        "id": "G_6i2JPJrndk",
        "outputId": "bd0d0068-8f90-475d-833d-f604b61285d0"
      },
      "execution_count": 9,
      "outputs": [
        {
          "output_type": "stream",
          "name": "stdout",
          "text": [
            "['http://www.gov.nt.ca/thisweek/news/', 'http://www.gov.nt.ca/thisweek/news/', 'http://www.nnsl.com/', 'http://uphere.ca/', 'http://upherebusiness.ca/', 'http://www.nnsl.com/dehcho/', 'http://www.hayriverhub.com/', 'http://www.cbc.ca/news/canada/north', 'http://www.nnsl.com/inuvik/', 'http://www.cbc.ca/news/canada/north', 'http://www.cbc.ca/news/canada/north', 'http://hqyellowknife.com/', 'http://www.aquilon.nt.ca/', 'http://journaux.apf.ca/aquilon/', 'http://www.nnsl.com/nwtnewsnorth/', 'http://www.nnsl.com/yellowknifer/']\n"
          ]
        }
      ]
    },
    {
      "cell_type": "markdown",
      "source": [
        "##append the current sublink-Country array with the sources \n",
        "\n",
        "Goal: \n",
        "sublink - Country - Region - List of Sources \n",
        "Done: \n",
        "sublink - Country \n",
        "\n",
        "Let's first add the list of Sources \n",
        "\n",
        "1.create filepaths towards them\n",
        "2.get all the links of the Sources \n"
      ],
      "metadata": {
        "id": "fddgEo8KDLtM"
      }
    },
    {
      "cell_type": "markdown",
      "source": [
        "###now appending the news sources "
      ],
      "metadata": {
        "id": "YEE3EqBpJOop"
      }
    },
    {
      "cell_type": "code",
      "source": [
        "#to append the news sources to the profiles of the country regions \n",
        "\n",
        "def append_news_sources(CountryRegion_profiles):\n",
        "  \n",
        "  for CountryRegion in CountryRegion_profiles:\n",
        "    #print(CountryRegion) \n",
        "    CountryRegion_sublink = CountryRegion[0]\n",
        "    #print(\"Country\") \n",
        "    CountryRegion.append(get_sublinks_general(CountryRegion_sublink))\n",
        "  return CountryRegion_profiles "
      ],
      "metadata": {
        "id": "7uZASRToK1vu"
      },
      "execution_count": 10,
      "outputs": []
    },
    {
      "cell_type": "code",
      "source": [
        "print(CountryRegion_profiles)"
      ],
      "metadata": {
        "colab": {
          "base_uri": "https://localhost:8080/"
        },
        "id": "GJdUA_0kWIFY",
        "outputId": "d0c34c3b-b321-4ec9-dabc-de67f9e475d8"
      },
      "execution_count": 11,
      "outputs": [
        {
          "output_type": "stream",
          "name": "stdout",
          "text": [
            "[['afgha.htm', 'Afghanistan'], ['africre.htm', 'Africa Regional'], ['alban.htm', 'Albania'], ['alger.htm', 'Algeria'], ['asamo.htm', 'American Samoa'], ['amerire.htm', 'Americas Regional'], ['andor.htm', 'Andorra'], ['angol.htm', 'Angola'], ['angui.htm', 'Anguilla'], ['antar.htm', 'Antarctica'], ['antig.htm', 'Antigua and Barbuda'], ['argen.htm', 'Argentina'], ['armen.htm', 'Armenia'], ['aruba.htm', 'Aruba'], ['asia_pacific.htm', 'Asia Pacific'], ['asiare.htm', 'Asia Regional'], ['austr.htm', 'Australia'], ['austi.htm', 'Austria'], ['azerb.htm', 'Azerbaijan'], ['baham.htm', 'Bahamas'], ['bahra.htm', 'Bahrain'], ['bangl.htm', 'Bangladesh'], ['barba.htm', 'Barbados'], ['belar.htm', 'Belarus'], ['belgi.htm', 'Belgium'], ['beliz.htm', 'Belize'], ['benin.htm', 'Benin'], ['bermu.htm', 'Bermuda'], ['bhuta.htm', 'Bhutan'], ['boliv.htm', 'Bolivia'], ['bonaire.htm', 'Bonaire'], ['bosni.htm', 'Bosnia and Herzegovina'], ['botsw.htm', 'Botswana'], ['brazi.htm', 'Brazil'], ['british_caribbean.htm', 'British Caribbean'], ['bvirg.htm', 'British Virgin Islands'], ['brune.htm', 'Brunei Darussalam'], ['bulga.htm', ' Bulgaria'], ['burki.htm', ' Burkina Faso'], ['burun.htm', ' Burundi'], ['cambo.htm', 'Cambodia'], ['camer.htm', 'Cameroon'], ['canad.htm', 'Canada'], ['capev.htm', 'Cabo Verde (Cape Verde)'], ['caribre.htm', 'Caribbean Regional'], ['cayma.htm', 'Cayman Islands'], ['cafri.htm', 'Central Africa Republic'], ['centrre.htm', 'Central America Regional'], ['chad.htm', 'Chad'], ['chile.htm', 'Chile'], ['china.htm', 'China'], ['chris.htm', 'Christmas Island'], ['cocos.htm', 'Cocos Islands'], ['colom.htm', 'Colombia'], ['comor.htm', 'Comoros'], ['congk.htm', 'Congo, Democratic Republic'], ['congk.htm', 'of the (Kinshasa'], ['congb.htm', 'Congo, Republic of the'], ['congb.htm', '(Brazzaville)'], ['cooki.htm', 'Cook Islands'], ['costa.htm', 'Costa Rica'], ['coted.htm', \"Cote d'Ivoire\"], ['croat.htm', 'Croatia'], ['cuba.htm', 'Cuba'], ['nanti.htm', 'Curacao'], ['cypru.htm', 'Cyprus'], ['czech.htm', 'Czechia'], ['denma.htm', 'Denmark'], ['djibo.htm', 'Djibouti'], ['domin.htm', 'Dominica'], ['domir.htm', 'Dominican Republic'], ['dutch_caribbean.htm', 'Dutch Caribbean'], ['east_africa_regional.htm', 'East Africa Regional'], ['ecuad.htm', 'Ecuador'], ['egypt.htm', 'Egypt'], ['elsal.htm', 'El Salvador'], ['equat.htm', 'Equatorial Guinea'], ['eritr.htm', 'Eritrea'], ['eston.htm', 'Estonia'], ['swazi.htm', 'Eswatini (Swaziland)'], ['ethio.htm', 'Ethiopia'], ['europre.htm', 'Europe Regional'], ['european_union.htm', 'European Union'], ['falkl.htm', 'Falkland Islands'], ['faroe.htm', 'Faeroe Islands'], ['fiji.htm', 'Fiji'], ['finla.htm', 'Finland'], ['franc.htm', 'France'], ['french_caribbean.htm', 'French Caribbean'], ['fguia.htm', 'French Guiana'], ['fpoly.htm', 'French Polynesia'], ['fsout.htm', 'French Southern and Antarctic Lands'], ['gabon.htm', 'Gabon'], ['gambi.htm', 'Gambia'], ['georg.htm', 'Georgia'], ['germa.htm', 'Germany'], ['ghana.htm', 'Ghana'], ['gibra.htm', 'Gibraltar'], ['greec.htm', 'Greece'], ['green.htm', 'Greenland'], ['grena.htm', 'Grenada'], ['guade.htm', 'Guadeloupe'], ['guam.htm', 'Guam'], ['guate.htm', 'Guatemala'], ['guern.htm', 'Guernsey'], ['guine.htm', 'Guinea'], ['guinb.htm', 'Guinea Bissau'], ['guyan.htm', 'Guyana'], ['haiti.htm', 'Haiti'], ['vatic.htm', 'Holy See (Vatican City)'], ['hondu.htm', 'Honduras'], ['hongk.htm', 'Hong Kong'], ['hunga.htm', 'Hungary'], ['icela.htm', 'Iceland'], ['india.htm', 'India'], ['indon.htm', 'Indonesia'], ['inter.htm', 'International'], ['iran.htm', 'Iran'], ['iraq.htm', 'Iraq'], ['irela.htm', 'Ireland'], ['isman.htm', 'Isle of Man'], ['israe.htm', 'Israel'], ['italy.htm', 'Italy'], ['jamai.htm', 'Jamaica'], ['japan.htm', 'Japan'], ['jerse.htm', 'Jersey'], ['jorda.htm', 'Jordan'], ['kazak.htm', 'Kazakhstan'], ['kenya.htm', 'Kenya'], ['kirib.htm', 'Kiribati'], ['kosov.htm', 'Kosovo'], ['kuwai.htm', 'Kuwait'], ['kyrgy.htm', 'Kyrgyzstan'], ['laos.htm', 'Laos'], ['latin_america.htm', 'Latin America'], ['latvi.htm', 'Latvia'], ['leban.htm', 'Lebanon'], ['lesot.htm', 'Lesotho'], ['liber.htm', 'Liberia'], ['libya.htm', 'Libya'], ['liech.htm', 'Liechtenstein'], ['lithu.htm', 'Lithuania'], ['luxem.htm', 'Luxembourg'], ['macau.htm', 'Macau'], ['madag.htm', 'Madagascar'], ['marti.htm', 'Martinique'], ['malaw.htm', 'Malawi'], ['malay.htm', 'Malaysia'], ['maldi.htm', 'Maldives'], ['mali.htm', 'Mali'], ['malta.htm', 'Malta'], ['marsh.htm', 'Marshall Islands'], ['maura.htm', 'Mauritania'], ['mauri.htm', 'Mauritius'], ['mayot.htm', 'Mayotte'], ['mexic.htm', 'Mexico'], ['micro.htm', 'Micronesia'], ['moldo.htm', 'Moldova'], ['monac.htm', 'Monaco'], ['mongo.htm', 'Mongolia'], ['monte.htm', 'Montenegro'], ['monts.htm', 'Montserrat'], ['moroc.htm', 'Morocco'], ['mozam.htm', 'Mozambique'], ['myanm.htm', 'Myanmar'], ['namib.htm', 'Namibia'], ['nauru.htm', 'Nauru'], ['nearare.htm', 'Near and Middle East Regional'], ['nepal.htm', 'Nepal'], ['nethe.htm', 'Netherlands'], ['newca.htm', 'New Caledonia'], ['newze.htm', 'New Zealand'], ['nicar.htm', 'Nicaragua'], ['niger.htm', 'Niger'], ['nigei.htm', 'Nigeria'], ['niue.htm', 'Niue'], ['norfo.htm', 'Norfolk Island'], ['northre.htm', 'North America Regional'], ['nkore.htm', 'North Korea'], ['maced.htm', 'North Macedonia'], ['nmari.htm', 'Northern Mariana Islands'], ['norwa.htm', 'Norway'], ['oman.htm', 'Oman'], ['pacifre.htm', 'Pacific Regional'], ['pakis.htm', 'Pakistan'], ['palau.htm', 'Palau'], ['pales.htm', 'Palestine'], ['panam.htm', 'Panama'], ['papua.htm', 'Papua New Guinea'], ['parag.htm', 'Paraguay'], ['peru.htm', 'Peru'], ['phili.htm', 'Philippines'], ['pitca.htm', 'Pitcairn'], ['polan.htm', 'Poland'], ['portu.htm', 'Portugal'], ['puert.htm', 'Puerto Rico'], ['qatar.htm', 'Qatar'], ['reuni.htm', 'Reunion'], ['roman.htm', 'Romania'], ['russi.htm', 'Russia'], ['rwand.htm', 'Rwanda'], ['saba.htm', 'Saba'], ['saint_barthelemy.htm', 'Saint Barthelemy'], ['shele.htm', 'Saint Helena, Ascension, and'], ['shele.htm', 'Tristan da Cunha'], ['stkit.htm', 'Saint Kitts and Nevis'], ['stluc.htm', 'Saint Lucia'], ['saint_martin.htm', 'Saint Martin'], ['stpie.htm', 'Saint Pierre and Miquelon'], ['stvin.htm', 'Saint Vincent and&nbsp; Grenadines'], ['samoa.htm', 'Samoa'], ['sanma.htm', 'San Marino'], ['saoto.htm', 'Sao Tome and Principe'], ['saudi.htm', 'Saudi Arabia'], ['seneg.htm', 'Senegal'], ['yugos.htm', 'Serbia'], ['seych.htm', 'Seychelles'], ['sierr.htm', 'Sierra Leone'], ['singa.htm', 'Singapore'], ['sint_maarten.htm', 'Sint Maarten'], ['slova.htm', 'Slovakia'], ['slove.htm', 'Slovenia'], ['solom.htm', 'Solomon Islands'], ['somal.htm', 'Somalia'], ['safri.htm', 'South Africa'], ['southre.htm', 'South America Regional'], ['sgeor.htm', 'South Georgia and South Sandwich Islands'], ['skore.htm', 'South Korea'], ['south_sudan.htm', 'South Sudan'], ['spain.htm', 'Spain'], ['srila.htm', 'Sri Lanka'], ['sudan.htm', 'Sudan'], ['surin.htm', 'Suriname'], ['svalb.htm', 'Svalbard and Jan Mayen Islands'], ['swede.htm', 'Sweden'], ['switz.htm', 'Switzerland'], ['syria.htm', 'Syria'], ['taiwa.htm', 'Taiwan'], ['tajik.htm', 'Tajikistan'], ['tanza.htm', 'Tanzania'], ['thail.htm', 'Thailand'], ['etimo.htm', 'Timor Leste'], ['togo.htm', 'Togo'], ['tonga.htm', 'Tonga'], ['trini.htm', 'Trinidad and Tobago'], ['tunis.htm', 'Tunisia'], ['turke.htm', 'Turkey'], ['turkm.htm', 'Turkmenistan'], ['turks.htm', 'Turks and Caicos Islands'], ['tuval.htm', 'Tuvalu'], ['ugand.htm', 'Uganda'], ['ukrai.htm', 'Ukraine'], ['uarab.htm', 'United Arab Emirates'], ['uking.htm', 'United Kingdom'], ['united_nations.htm', 'United Nations'], ['unite.htm', 'United States'], ['virgi.htm', 'United States Virgin Islands'], ['urugu.htm', 'Uruguay'], ['uzbek.htm', 'Uzbekistan'], ['vanua.htm', 'Vanuatu'], ['venez.htm', 'Venezuela'], ['vietn.htm', 'Vietnam'], ['walli.htm', 'Wallis and Futuna Islands'], ['west_africa_regional.htm', 'West Africa Regional'], ['wsaha.htm', 'Western Sahara'], ['yemen.htm', 'Yemen'], ['zambi.htm', 'Zambia'], ['zimba.htm', 'Zimbabwe']]\n"
          ]
        }
      ]
    },
    {
      "cell_type": "code",
      "source": [
        "#testing \n",
        "S_CR_NS_2dlist = append_news_sources(CountryRegion_profiles)"
      ],
      "metadata": {
        "id": "ctpPc_dptL2n",
        "colab": {
          "base_uri": "https://localhost:8080/"
        },
        "outputId": "0ab1a9ac-bf57-4fce-d485-a637bb279e78"
      },
      "execution_count": 12,
      "outputs": [
        {
          "output_type": "stream",
          "name": "stdout",
          "text": [
            "will get from direct website : amerire.htm\n",
            "will get from direct website : argen.htm\n",
            "will get from direct website : austi.htm\n",
            "will get from direct website : benin.htm\n",
            "will get from direct website : brazina.htm\n",
            "will get from direct website : centrre.htm\n",
            "will get from direct website : chile.htm\n",
            "will get from direct website : colom.htm\n",
            "will get from direct website : cuba.htm\n",
            "will get from direct website : ecuad.htm\n",
            "will get from direct website : elsal.htm\n",
            "will get from direct website : germaby.htm\n",
            "will get from direct website : guate.htm\n",
            "will get from direct website : guine.htm\n",
            "will get from direct website : latin_america.htm\n",
            "will get from direct website : mexic.htm\n",
            "will get from direct website : panam.htm\n",
            "will get from direct website : parag.htm\n",
            "will get from direct website : peru.htm\n",
            "will get from direct website : seneg.htm\n",
            "will get from direct website : spain.htm\n",
            "will get from direct website : turke.htm\n",
            "will get from direct website : urugu.htm\n"
          ]
        }
      ]
    },
    {
      "cell_type": "markdown",
      "source": [
        "###Now Putting these in a df"
      ],
      "metadata": {
        "id": "ZIjuZi5syKC8"
      }
    },
    {
      "cell_type": "code",
      "source": [
        "CR_df = pd.DataFrame(S_CR_NS_2dlist)\n",
        "CR_df.columns = ['sublink', 'country', 'news_sources']\n"
      ],
      "metadata": {
        "id": "3rc3fZYBune1"
      },
      "execution_count": 13,
      "outputs": []
    },
    {
      "cell_type": "code",
      "source": [
        "'error' in CR_df['news_sources'][11]"
      ],
      "metadata": {
        "colab": {
          "base_uri": "https://localhost:8080/"
        },
        "id": "JmPL8WN4tnF0",
        "outputId": "9c6041a3-d43a-4db1-ebaa-36183c0f51e1"
      },
      "execution_count": 14,
      "outputs": [
        {
          "output_type": "execute_result",
          "data": {
            "text/plain": [
              "False"
            ]
          },
          "metadata": {},
          "execution_count": 14
        }
      ]
    },
    {
      "cell_type": "code",
      "source": [
        "CR_df"
      ],
      "metadata": {
        "colab": {
          "base_uri": "https://localhost:8080/",
          "height": 2621
        },
        "id": "UO0uNi1j1REp",
        "outputId": "060c29fa-20cf-4c13-8ec1-55232af1f16e"
      },
      "execution_count": 15,
      "outputs": [
        {
          "output_type": "execute_result",
          "data": {
            "text/plain": [
              "                      sublink               country  \\\n",
              "0                   afgha.htm           Afghanistan   \n",
              "1                 africre.htm       Africa Regional   \n",
              "2                   alban.htm               Albania   \n",
              "3                   alger.htm               Algeria   \n",
              "4                   asamo.htm        American Samoa   \n",
              "..                        ...                   ...   \n",
              "263  west_africa_regional.htm  West Africa Regional   \n",
              "264                 wsaha.htm        Western Sahara   \n",
              "265                 yemen.htm                 Yemen   \n",
              "266                 zambi.htm                Zambia   \n",
              "267                 zimba.htm              Zimbabwe   \n",
              "\n",
              "                                          news_sources  \n",
              "0    [http://1tvnews.af/fa/, http://1tvnews.af/en/,...  \n",
              "1    [https://www.africa1.com/, https://www.africa2...  \n",
              "2    [http://www.abcnews.al/, http://www.channel-on...  \n",
              "3    [https://tv.echoroukonline.com/, http://www.ra...  \n",
              "4    [https://www.southseasbroadcasting.com/93khj/,...  \n",
              "..                                                 ...  \n",
              "263  [http://www.actualite-ouest-africaine.org/, ht...  \n",
              "264  [https://www.rasdradio.info/, http://rasd.tv/,...  \n",
              "265  [http://almasirah.net/, http://www.azaal.tv/, ...  \n",
              "266  [http://www.muvitv.com/, https://www.znbc.co.z...  \n",
              "267  [https://nehandaradio.com/, https://nehandatv....  \n",
              "\n",
              "[268 rows x 3 columns]"
            ],
            "text/html": [
              "\n",
              "  <div id=\"df-8fe01b01-8704-4d4d-b9dd-a46d8279570e\">\n",
              "    <div class=\"colab-df-container\">\n",
              "      <div>\n",
              "<style scoped>\n",
              "    .dataframe tbody tr th:only-of-type {\n",
              "        vertical-align: middle;\n",
              "    }\n",
              "\n",
              "    .dataframe tbody tr th {\n",
              "        vertical-align: top;\n",
              "    }\n",
              "\n",
              "    .dataframe thead th {\n",
              "        text-align: right;\n",
              "    }\n",
              "</style>\n",
              "<table border=\"1\" class=\"dataframe\">\n",
              "  <thead>\n",
              "    <tr style=\"text-align: right;\">\n",
              "      <th></th>\n",
              "      <th>sublink</th>\n",
              "      <th>country</th>\n",
              "      <th>news_sources</th>\n",
              "    </tr>\n",
              "  </thead>\n",
              "  <tbody>\n",
              "    <tr>\n",
              "      <th>0</th>\n",
              "      <td>afgha.htm</td>\n",
              "      <td>Afghanistan</td>\n",
              "      <td>[http://1tvnews.af/fa/, http://1tvnews.af/en/,...</td>\n",
              "    </tr>\n",
              "    <tr>\n",
              "      <th>1</th>\n",
              "      <td>africre.htm</td>\n",
              "      <td>Africa Regional</td>\n",
              "      <td>[https://www.africa1.com/, https://www.africa2...</td>\n",
              "    </tr>\n",
              "    <tr>\n",
              "      <th>2</th>\n",
              "      <td>alban.htm</td>\n",
              "      <td>Albania</td>\n",
              "      <td>[http://www.abcnews.al/, http://www.channel-on...</td>\n",
              "    </tr>\n",
              "    <tr>\n",
              "      <th>3</th>\n",
              "      <td>alger.htm</td>\n",
              "      <td>Algeria</td>\n",
              "      <td>[https://tv.echoroukonline.com/, http://www.ra...</td>\n",
              "    </tr>\n",
              "    <tr>\n",
              "      <th>4</th>\n",
              "      <td>asamo.htm</td>\n",
              "      <td>American Samoa</td>\n",
              "      <td>[https://www.southseasbroadcasting.com/93khj/,...</td>\n",
              "    </tr>\n",
              "    <tr>\n",
              "      <th>...</th>\n",
              "      <td>...</td>\n",
              "      <td>...</td>\n",
              "      <td>...</td>\n",
              "    </tr>\n",
              "    <tr>\n",
              "      <th>263</th>\n",
              "      <td>west_africa_regional.htm</td>\n",
              "      <td>West Africa Regional</td>\n",
              "      <td>[http://www.actualite-ouest-africaine.org/, ht...</td>\n",
              "    </tr>\n",
              "    <tr>\n",
              "      <th>264</th>\n",
              "      <td>wsaha.htm</td>\n",
              "      <td>Western Sahara</td>\n",
              "      <td>[https://www.rasdradio.info/, http://rasd.tv/,...</td>\n",
              "    </tr>\n",
              "    <tr>\n",
              "      <th>265</th>\n",
              "      <td>yemen.htm</td>\n",
              "      <td>Yemen</td>\n",
              "      <td>[http://almasirah.net/, http://www.azaal.tv/, ...</td>\n",
              "    </tr>\n",
              "    <tr>\n",
              "      <th>266</th>\n",
              "      <td>zambi.htm</td>\n",
              "      <td>Zambia</td>\n",
              "      <td>[http://www.muvitv.com/, https://www.znbc.co.z...</td>\n",
              "    </tr>\n",
              "    <tr>\n",
              "      <th>267</th>\n",
              "      <td>zimba.htm</td>\n",
              "      <td>Zimbabwe</td>\n",
              "      <td>[https://nehandaradio.com/, https://nehandatv....</td>\n",
              "    </tr>\n",
              "  </tbody>\n",
              "</table>\n",
              "<p>268 rows × 3 columns</p>\n",
              "</div>\n",
              "      <button class=\"colab-df-convert\" onclick=\"convertToInteractive('df-8fe01b01-8704-4d4d-b9dd-a46d8279570e')\"\n",
              "              title=\"Convert this dataframe to an interactive table.\"\n",
              "              style=\"display:none;\">\n",
              "        \n",
              "  <svg xmlns=\"http://www.w3.org/2000/svg\" height=\"24px\"viewBox=\"0 0 24 24\"\n",
              "       width=\"24px\">\n",
              "    <path d=\"M0 0h24v24H0V0z\" fill=\"none\"/>\n",
              "    <path d=\"M18.56 5.44l.94 2.06.94-2.06 2.06-.94-2.06-.94-.94-2.06-.94 2.06-2.06.94zm-11 1L8.5 8.5l.94-2.06 2.06-.94-2.06-.94L8.5 2.5l-.94 2.06-2.06.94zm10 10l.94 2.06.94-2.06 2.06-.94-2.06-.94-.94-2.06-.94 2.06-2.06.94z\"/><path d=\"M17.41 7.96l-1.37-1.37c-.4-.4-.92-.59-1.43-.59-.52 0-1.04.2-1.43.59L10.3 9.45l-7.72 7.72c-.78.78-.78 2.05 0 2.83L4 21.41c.39.39.9.59 1.41.59.51 0 1.02-.2 1.41-.59l7.78-7.78 2.81-2.81c.8-.78.8-2.07 0-2.86zM5.41 20L4 18.59l7.72-7.72 1.47 1.35L5.41 20z\"/>\n",
              "  </svg>\n",
              "      </button>\n",
              "      \n",
              "  <style>\n",
              "    .colab-df-container {\n",
              "      display:flex;\n",
              "      flex-wrap:wrap;\n",
              "      gap: 12px;\n",
              "    }\n",
              "\n",
              "    .colab-df-convert {\n",
              "      background-color: #E8F0FE;\n",
              "      border: none;\n",
              "      border-radius: 50%;\n",
              "      cursor: pointer;\n",
              "      display: none;\n",
              "      fill: #1967D2;\n",
              "      height: 32px;\n",
              "      padding: 0 0 0 0;\n",
              "      width: 32px;\n",
              "    }\n",
              "\n",
              "    .colab-df-convert:hover {\n",
              "      background-color: #E2EBFA;\n",
              "      box-shadow: 0px 1px 2px rgba(60, 64, 67, 0.3), 0px 1px 3px 1px rgba(60, 64, 67, 0.15);\n",
              "      fill: #174EA6;\n",
              "    }\n",
              "\n",
              "    [theme=dark] .colab-df-convert {\n",
              "      background-color: #3B4455;\n",
              "      fill: #D2E3FC;\n",
              "    }\n",
              "\n",
              "    [theme=dark] .colab-df-convert:hover {\n",
              "      background-color: #434B5C;\n",
              "      box-shadow: 0px 1px 3px 1px rgba(0, 0, 0, 0.15);\n",
              "      filter: drop-shadow(0px 1px 2px rgba(0, 0, 0, 0.3));\n",
              "      fill: #FFFFFF;\n",
              "    }\n",
              "  </style>\n",
              "\n",
              "      <script>\n",
              "        const buttonEl =\n",
              "          document.querySelector('#df-8fe01b01-8704-4d4d-b9dd-a46d8279570e button.colab-df-convert');\n",
              "        buttonEl.style.display =\n",
              "          google.colab.kernel.accessAllowed ? 'block' : 'none';\n",
              "\n",
              "        async function convertToInteractive(key) {\n",
              "          const element = document.querySelector('#df-8fe01b01-8704-4d4d-b9dd-a46d8279570e');\n",
              "          const dataTable =\n",
              "            await google.colab.kernel.invokeFunction('convertToInteractive',\n",
              "                                                     [key], {});\n",
              "          if (!dataTable) return;\n",
              "\n",
              "          const docLinkHtml = 'Like what you see? Visit the ' +\n",
              "            '<a target=\"_blank\" href=https://colab.research.google.com/notebooks/data_table.ipynb>data table notebook</a>'\n",
              "            + ' to learn more about interactive tables.';\n",
              "          element.innerHTML = '';\n",
              "          dataTable['output_type'] = 'display_data';\n",
              "          await google.colab.output.renderOutput(dataTable, element);\n",
              "          const docLink = document.createElement('div');\n",
              "          docLink.innerHTML = docLinkHtml;\n",
              "          element.appendChild(docLink);\n",
              "        }\n",
              "      </script>\n",
              "    </div>\n",
              "  </div>\n",
              "  "
            ]
          },
          "metadata": {},
          "execution_count": 15
        }
      ]
    },
    {
      "cell_type": "code",
      "source": [
        "len(CR_df['news_sources'][255])"
      ],
      "metadata": {
        "colab": {
          "base_uri": "https://localhost:8080/"
        },
        "id": "DtGHiG6FX3F-",
        "outputId": "a237167e-bedf-4e8b-9e36-21d30ab95f19"
      },
      "execution_count": 16,
      "outputs": [
        {
          "output_type": "execute_result",
          "data": {
            "text/plain": [
              "13189"
            ]
          },
          "metadata": {},
          "execution_count": 16
        }
      ]
    },
    {
      "cell_type": "code",
      "source": [
        "print(len(get_sublinks_general(\"unite.htm\")))\n",
        "\n"
      ],
      "metadata": {
        "colab": {
          "base_uri": "https://localhost:8080/"
        },
        "id": "kKORLf9eYGmH",
        "outputId": "2263f950-fb93-49ee-b434-ff286b771a8e"
      },
      "execution_count": 18,
      "outputs": [
        {
          "output_type": "stream",
          "name": "stdout",
          "text": [
            "13189\n"
          ]
        }
      ]
    },
    {
      "cell_type": "markdown",
      "source": [
        "##Get the INTERregions it is under for each country\n",
        "\n",
        "aim: to add news sources of the INTERregions to each country \n",
        "Strategy: \n",
        "1. Get the region sublinks - manually do it (re.htm might not work)\n",
        "2. Run through each CR, if CR sublink appears in the region sublink, \n",
        "3. give it the region name "
      ],
      "metadata": {
        "id": "R9coYNaRySxr"
      }
    },
    {
      "cell_type": "code",
      "source": [
        "regions = []\n",
        "for sublink in CR_df[\"sublink\"]:\n",
        "  if ((\"re.htm\" in sublink) | (\"regional\" in sublink) | (\"asia\" in sublink) | (\"ausnz\" in sublink)):\n",
        "    regions.append(sublink)"
      ],
      "metadata": {
        "id": "B1F0JB8I5AMw"
      },
      "execution_count": null,
      "outputs": []
    },
    {
      "cell_type": "code",
      "source": [
        "print(regions)"
      ],
      "metadata": {
        "colab": {
          "base_uri": "https://localhost:8080/"
        },
        "id": "mmGzZyuZ5by8",
        "outputId": "9e00e6b4-663a-4004-9074-affc77e4b837"
      },
      "execution_count": null,
      "outputs": [
        {
          "output_type": "stream",
          "name": "stdout",
          "text": [
            "['africre.htm', 'amerire.htm', 'asia_pacific.htm', 'asiare.htm', 'bonaire.htm', 'caribre.htm', 'centrre.htm', 'east_africa_regional.htm', 'europre.htm', 'nearare.htm', 'northre.htm', 'nkore.htm', 'pacifre.htm', 'southre.htm', 'skore.htm', 'west_africa_regional.htm']\n"
          ]
        }
      ]
    },
    {
      "cell_type": "code",
      "source": [
        "\n"
      ],
      "metadata": {
        "id": "TAiYkpc54KKQ"
      },
      "execution_count": null,
      "outputs": []
    }
  ]
}